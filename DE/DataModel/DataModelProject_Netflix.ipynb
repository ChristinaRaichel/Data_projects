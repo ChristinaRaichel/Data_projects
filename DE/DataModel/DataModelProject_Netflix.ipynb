{
 "cells": [
  {
   "cell_type": "markdown",
   "id": "d98aaa5f",
   "metadata": {},
   "source": [
    "# Netflix Data Model Project"
   ]
  },
  {
   "cell_type": "markdown",
   "id": "0458cf6c",
   "metadata": {},
   "source": [
    "Netflix's \"Top 10\" TV Shows and Films database(based on the weekly data of popular TV shows/films viewed by subscribers in a number of countries) is extracted into 3 pandas dataframes and copied to a postgresDB, 'mydb' located in the host.  "
   ]
  },
  {
   "cell_type": "markdown",
   "id": "70ad6ab5",
   "metadata": {},
   "source": [
    "Dataset downloaded from :https://www.kaggle.com/datasets/dhruvildave/netflix-top-10-tv-shows-and-films\n",
    "Datamodel created in draw.io : https://drive.google.com/file/d/1Fz5I3N4fmtKhtg5ri3cxGpC5sUtslOxi/view?usp=sharing"
   ]
  },
  {
   "cell_type": "code",
   "execution_count": null,
   "id": "7b5d32f3",
   "metadata": {},
   "outputs": [],
   "source": [
    "import psycopg2  ## to connect to any postgres DB\n",
    "import pandas as pd"
   ]
  },
  {
   "cell_type": "markdown",
   "id": "5abf9ccb",
   "metadata": {},
   "source": [
    "Creating pandas DF from the files"
   ]
  },
  {
   "cell_type": "code",
   "execution_count": null,
   "id": "776467ca",
   "metadata": {},
   "outputs": [],
   "source": [
    "week_country = pd.read_csv('/home/chris/Roadmap/de-plan/Netflix_data/all-weeks-countries.csv')\n",
    "week_global = pd.read_csv('/home/chris/Roadmap/de-plan/Netflix_data/all-weeks-global.csv')\n",
    "most_popular = pd.read_csv('/home/chris/Roadmap/de-plan/Netflix_data/most-popular.csv')"
   ]
  },
  {
   "cell_type": "code",
   "execution_count": null,
   "id": "b42fe548",
   "metadata": {},
   "outputs": [],
   "source": [
    "week_country.head()"
   ]
  },
  {
   "cell_type": "code",
   "execution_count": null,
   "id": "e4dc34ce",
   "metadata": {},
   "outputs": [],
   "source": [
    "week_country.columns"
   ]
  },
  {
   "cell_type": "code",
   "execution_count": null,
   "id": "c060ee91",
   "metadata": {},
   "outputs": [],
   "source": [
    "week_country = week_country[['country_name', 'week', 'category','show_title', 'season_title', 'cumulative_weeks_in_top_10']]"
   ]
  },
  {
   "cell_type": "code",
   "execution_count": null,
   "id": "64fac963",
   "metadata": {},
   "outputs": [],
   "source": [
    "week_country['week'] = pd.to_datetime(week_country['week'], format='%Y-%m-%d')"
   ]
  },
  {
   "cell_type": "code",
   "execution_count": null,
   "id": "da936f20",
   "metadata": {},
   "outputs": [],
   "source": [
    "week_global.head()"
   ]
  },
  {
   "cell_type": "code",
   "execution_count": null,
   "id": "de06a511",
   "metadata": {},
   "outputs": [],
   "source": [
    "week_global = week_global.drop(['weekly_rank','weekly_hours_viewed'],axis=1)\n",
    "week_global = week_global.fillna('')\n",
    "week_global['week'] = pd.to_datetime(week_global['week'], format='%Y-%m-%d')\n",
    "\n",
    "week_global.info()\n",
    "week_global.head()"
   ]
  },
  {
   "cell_type": "code",
   "execution_count": null,
   "id": "59e8ece5",
   "metadata": {},
   "outputs": [],
   "source": [
    "most_popular.head()"
   ]
  },
  {
   "cell_type": "markdown",
   "id": "86aa8344",
   "metadata": {},
   "source": [
    "mydb database creation and connection:\n"
   ]
  },
  {
   "cell_type": "code",
   "execution_count": null,
   "id": "a0156589",
   "metadata": {},
   "outputs": [],
   "source": [
    "\"\"\"def create_db(cur,conn):\n",
    "    try:\n",
    "        cur.execute(\"create database mydb\")\n",
    "    except psycopg2.Error as e:\n",
    "        print(e)\n",
    "    conn.commit()\n",
    "\"\"\""
   ]
  },
  {
   "cell_type": "code",
   "execution_count": 2,
   "id": "d28d2b1a",
   "metadata": {},
   "outputs": [],
   "source": [
    "def connect_db():\n",
    "    try:\n",
    "        conn = psycopg2.connect(\"host= 127.0.0.1 dbname=mydb user=postgres password=*****\")\n",
    "    except psycopg2.Error as e:\n",
    "        print(\"Not connected\")\n",
    "        print(e)\n",
    "\n",
    "    try:\n",
    "        cur = conn.cursor()\n",
    "    except psycopg2.Error as e:\n",
    "        print(\"Cursor not available\")\n",
    "        print(e)\n",
    "    conn.set_session(autocommit = True)\n",
    "    return conn,cur\n"
   ]
  },
  {
   "cell_type": "code",
   "execution_count": 3,
   "id": "4f0d5c96",
   "metadata": {},
   "outputs": [],
   "source": [
    "conn, cur = connect_db()"
   ]
  },
  {
   "cell_type": "code",
   "execution_count": null,
   "id": "4190f09d",
   "metadata": {},
   "outputs": [],
   "source": [
    "\"\"\"\n",
    "\n",
    "create_table_week_global = \"\"\" CREATE TABLE IF NOT EXISTS week_global_table(week date,category varchar,show_title varchar,season_title varchar, cumulative_weeks_in_top_10 int)\n",
    "\"\"\"\n",
    "\n",
    "\"\"\""
   ]
  },
  {
   "cell_type": "code",
   "execution_count": null,
   "id": "45502a14",
   "metadata": {},
   "outputs": [],
   "source": [
    "\"\"\"\n",
    "cur.execute(create_table_week_global)\n",
    "conn.commit()\n",
    "\"\"\""
   ]
  },
  {
   "cell_type": "code",
   "execution_count": null,
   "id": "951b6b93",
   "metadata": {},
   "outputs": [],
   "source": [
    "week_global_insert = \"INSERT INTO week_global_table (week,category,show_title,season_title, cumulative_weeks_in_top_10)VALUES (%s, %s, %s, %s, %s)\""
   ]
  },
  {
   "cell_type": "code",
   "execution_count": null,
   "id": "36e41ca6",
   "metadata": {},
   "outputs": [],
   "source": [
    "for i, row in week_global.iterrows():\n",
    "    #print(list(row))\n",
    "    cur.execute(week_global_insert,list(row))"
   ]
  },
  {
   "cell_type": "code",
   "execution_count": null,
   "id": "1a8eb581",
   "metadata": {},
   "outputs": [],
   "source": [
    "\"\"\"\n",
    "\n",
    "create_table_week_countries = \"\"\" CREATE TABLE IF NOT EXISTS week_countries_table(country_name varchar, week date,category varchar,show_title varchar,season_title varchar,cumulative_weeks_in_top_10 int)\n",
    "\"\"\"\n",
    "\n",
    "\"\"\""
   ]
  },
  {
   "cell_type": "code",
   "execution_count": null,
   "id": "027e22b2",
   "metadata": {},
   "outputs": [],
   "source": [
    "\"\"\"\n",
    "cur.execute(create_table_week_countries)\n",
    "conn.commit()\n",
    "\"\"\""
   ]
  },
  {
   "cell_type": "code",
   "execution_count": null,
   "id": "2c5d73cd",
   "metadata": {},
   "outputs": [],
   "source": [
    "week_countries_insert = \"INSERT INTO week_countries_table (country_name, week,category,show_title,season_title,cumulative_weeks_in_top_10)VALUES (%s, %s, %s, %s, %s, %s)\""
   ]
  },
  {
   "cell_type": "code",
   "execution_count": null,
   "id": "d90c0581",
   "metadata": {},
   "outputs": [],
   "source": [
    "for i, row in week_country.iterrows():\n",
    "    print(list(row))\n",
    "    cur.execute(week_countries_insert,list(row))"
   ]
  },
  {
   "cell_type": "code",
   "execution_count": 43,
   "id": "d1f3e9b8",
   "metadata": {},
   "outputs": [],
   "source": [
    "\"\"\"\n",
    "create_table_most_popular = \"\"\" CREATE TABLE IF NOT EXISTS most_popular_table(category varchar,rank int,show_title varchar,season_title varchar,hours_viewed_first_28_days int)\n",
    "\"\"\"\n",
    "\n",
    "\"\"\"\n"
   ]
  },
  {
   "cell_type": "code",
   "execution_count": 44,
   "id": "510db31f",
   "metadata": {},
   "outputs": [],
   "source": [
    "\"\"\"\n",
    "\n",
    "cur.execute(create_table_most_popular)\n",
    "conn.commit()\n",
    "\"\"\""
   ]
  },
  {
   "cell_type": "code",
   "execution_count": 45,
   "id": "97d6a191",
   "metadata": {},
   "outputs": [],
   "source": [
    "most_popular_insert = \"INSERT INTO most_popular_table (category,rank,show_title,season_title,hours_viewed_first_28_days)VALUES (%s, %s, %s, %s, %s)\"\n"
   ]
  },
  {
   "cell_type": "code",
   "execution_count": null,
   "id": "4d733a08",
   "metadata": {},
   "outputs": [],
   "source": [
    "for i, row in most_popular.iterrows():\n",
    "    print(list(row))\n",
    "    cur.execute(most_popular_insert,list(row))"
   ]
  },
  {
   "cell_type": "code",
   "execution_count": null,
   "id": "3bd56dc2",
   "metadata": {},
   "outputs": [],
   "source": [
    "\n",
    "conn.commit()\n"
   ]
  },
  {
   "cell_type": "code",
   "execution_count": null,
   "id": "5cf1e5c3",
   "metadata": {},
   "outputs": [],
   "source": [
    "cur.close()\n",
    "conn.close()"
   ]
  },
  {
   "cell_type": "code",
   "execution_count": null,
   "id": "a639e117",
   "metadata": {},
   "outputs": [],
   "source": [
    "\"\"\"\n",
    "cur.execute(\"DROP TABLE week_global_table\")\n",
    "cur.execute(\"DROP TABLE week_countries_table\")\n",
    "cur.execute(\"DROP TABLE most_popular_table\")\n",
    "\"\"\""
   ]
  },
  {
   "cell_type": "code",
   "execution_count": null,
   "id": "fa34a1ae",
   "metadata": {},
   "outputs": [],
   "source": [
    "\"\"\"\n",
    "cur.execute(\"TRUNCATE TABLE students;\")\n",
    "\n",
    "\"\"\""
   ]
  },
  {
   "cell_type": "code",
   "execution_count": null,
   "id": "ea9028ef",
   "metadata": {},
   "outputs": [],
   "source": []
  },
  {
   "cell_type": "code",
   "execution_count": null,
   "id": "aeef09b7",
   "metadata": {},
   "outputs": [],
   "source": []
  },
  {
   "cell_type": "code",
   "execution_count": null,
   "id": "ba0af097",
   "metadata": {},
   "outputs": [],
   "source": []
  },
  {
   "cell_type": "code",
   "execution_count": null,
   "id": "707994c9",
   "metadata": {},
   "outputs": [],
   "source": []
  },
  {
   "cell_type": "code",
   "execution_count": null,
   "id": "4faccec2",
   "metadata": {
    "scrolled": true
   },
   "outputs": [],
   "source": []
  },
  {
   "cell_type": "code",
   "execution_count": null,
   "id": "a3e42d3d",
   "metadata": {
    "scrolled": false
   },
   "outputs": [],
   "source": []
  },
  {
   "cell_type": "code",
   "execution_count": null,
   "id": "d38a6b0f",
   "metadata": {},
   "outputs": [],
   "source": []
  },
  {
   "cell_type": "code",
   "execution_count": 42,
   "id": "3f377131",
   "metadata": {},
   "outputs": [],
   "source": []
  },
  {
   "cell_type": "code",
   "execution_count": null,
   "id": "e26b056c",
   "metadata": {},
   "outputs": [],
   "source": []
  },
  {
   "cell_type": "code",
   "execution_count": null,
   "id": "dbb5be05",
   "metadata": {},
   "outputs": [],
   "source": [
    "    "
   ]
  },
  {
   "cell_type": "code",
   "execution_count": null,
   "id": "5cab23cc",
   "metadata": {},
   "outputs": [],
   "source": []
  },
  {
   "cell_type": "code",
   "execution_count": null,
   "id": "c97bc915",
   "metadata": {},
   "outputs": [],
   "source": []
  },
  {
   "cell_type": "code",
   "execution_count": null,
   "id": "358d0d57",
   "metadata": {},
   "outputs": [],
   "source": []
  },
  {
   "cell_type": "code",
   "execution_count": null,
   "id": "772b8dc1",
   "metadata": {},
   "outputs": [],
   "source": []
  },
  {
   "cell_type": "code",
   "execution_count": null,
   "id": "0ac22781",
   "metadata": {},
   "outputs": [],
   "source": [
    "\n"
   ]
  },
  {
   "cell_type": "code",
   "execution_count": null,
   "id": "7f18ecc7",
   "metadata": {},
   "outputs": [],
   "source": []
  },
  {
   "cell_type": "code",
   "execution_count": null,
   "id": "37878668",
   "metadata": {},
   "outputs": [],
   "source": []
  },
  {
   "cell_type": "code",
   "execution_count": null,
   "id": "3a07fbff",
   "metadata": {},
   "outputs": [],
   "source": []
  },
  {
   "cell_type": "code",
   "execution_count": null,
   "id": "0e3504ea",
   "metadata": {},
   "outputs": [],
   "source": []
  },
  {
   "cell_type": "code",
   "execution_count": null,
   "id": "7399a49a",
   "metadata": {},
   "outputs": [],
   "source": []
  },
  {
   "cell_type": "code",
   "execution_count": null,
   "id": "02f91381",
   "metadata": {},
   "outputs": [],
   "source": []
  }
 ],
 "metadata": {
  "kernelspec": {
   "display_name": "Python 3 (ipykernel)",
   "language": "python",
   "name": "python3"
  },
  "language_info": {
   "codemirror_mode": {
    "name": "ipython",
    "version": 3
   },
   "file_extension": ".py",
   "mimetype": "text/x-python",
   "name": "python",
   "nbconvert_exporter": "python",
   "pygments_lexer": "ipython3",
   "version": "3.10.6"
  }
 },
 "nbformat": 4,
 "nbformat_minor": 5
}
