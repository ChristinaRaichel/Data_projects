{
  "nbformat": 4,
  "nbformat_minor": 0,
  "metadata": {
    "colab": {
      "provenance": [],
      "toc_visible": true
    },
    "kernelspec": {
      "name": "python3",
      "display_name": "Python 3"
    },
    "language_info": {
      "name": "python"
    }
  },
  "cells": [
    {
      "cell_type": "code",
      "execution_count": 3,
      "metadata": {
        "id": "OGhActIicDnG"
      },
      "outputs": [],
      "source": [
        "import pandas as pd\n",
        "import numpy as np\n",
        "import random\n",
        "from tqdm import tqdm\n",
        "from gensim.models import Word2Vec\n",
        "import matplotlib.pyplot as plt\n",
        "\n",
        "import warnings;\n",
        "warnings.filterwarnings('ignore')"
      ]
    },
    {
      "cell_type": "code",
      "source": [
        "!pip install umap-learn"
      ],
      "metadata": {
        "colab": {
          "base_uri": "https://localhost:8080/"
        },
        "id": "dvidsLTzWgv1",
        "outputId": "98b7db71-06e7-4946-f350-fea03665c100"
      },
      "execution_count": 4,
      "outputs": [
        {
          "output_type": "stream",
          "name": "stdout",
          "text": [
            "Collecting umap-learn\n",
            "  Downloading umap-learn-0.5.4.tar.gz (90 kB)\n",
            "\u001b[2K     \u001b[90m━━━━━━━━━━━━━━━━━━━━━━━━━━━━━━━━━━━━━━━━\u001b[0m \u001b[32m90.8/90.8 kB\u001b[0m \u001b[31m2.6 MB/s\u001b[0m eta \u001b[36m0:00:00\u001b[0m\n",
            "\u001b[?25h  Preparing metadata (setup.py) ... \u001b[?25l\u001b[?25hdone\n",
            "Requirement already satisfied: numpy>=1.17 in /usr/local/lib/python3.10/dist-packages (from umap-learn) (1.23.5)\n",
            "Requirement already satisfied: scipy>=1.3.1 in /usr/local/lib/python3.10/dist-packages (from umap-learn) (1.11.3)\n",
            "Requirement already satisfied: scikit-learn>=0.22 in /usr/local/lib/python3.10/dist-packages (from umap-learn) (1.2.2)\n",
            "Requirement already satisfied: numba>=0.51.2 in /usr/local/lib/python3.10/dist-packages (from umap-learn) (0.58.1)\n",
            "Collecting pynndescent>=0.5 (from umap-learn)\n",
            "  Downloading pynndescent-0.5.10.tar.gz (1.1 MB)\n",
            "\u001b[2K     \u001b[90m━━━━━━━━━━━━━━━━━━━━━━━━━━━━━━━━━━━━━━━━\u001b[0m \u001b[32m1.1/1.1 MB\u001b[0m \u001b[31m11.6 MB/s\u001b[0m eta \u001b[36m0:00:00\u001b[0m\n",
            "\u001b[?25h  Preparing metadata (setup.py) ... \u001b[?25l\u001b[?25hdone\n",
            "Requirement already satisfied: tqdm in /usr/local/lib/python3.10/dist-packages (from umap-learn) (4.66.1)\n",
            "Requirement already satisfied: tbb>=2019.0 in /usr/local/lib/python3.10/dist-packages (from umap-learn) (2021.10.0)\n",
            "Requirement already satisfied: llvmlite<0.42,>=0.41.0dev0 in /usr/local/lib/python3.10/dist-packages (from numba>=0.51.2->umap-learn) (0.41.1)\n",
            "Requirement already satisfied: joblib>=0.11 in /usr/local/lib/python3.10/dist-packages (from pynndescent>=0.5->umap-learn) (1.3.2)\n",
            "Requirement already satisfied: threadpoolctl>=2.0.0 in /usr/local/lib/python3.10/dist-packages (from scikit-learn>=0.22->umap-learn) (3.2.0)\n",
            "Building wheels for collected packages: umap-learn, pynndescent\n",
            "  Building wheel for umap-learn (setup.py) ... \u001b[?25l\u001b[?25hdone\n",
            "  Created wheel for umap-learn: filename=umap_learn-0.5.4-py3-none-any.whl size=86770 sha256=81cc4cc2384f5aa0cd4990fddba38ae87db4f8f1be698c720237c424f03fecd3\n",
            "  Stored in directory: /root/.cache/pip/wheels/fb/66/29/199acf5784d0f7b8add6d466175ab45506c96e386ed5dd0633\n",
            "  Building wheel for pynndescent (setup.py) ... \u001b[?25l\u001b[?25hdone\n",
            "  Created wheel for pynndescent: filename=pynndescent-0.5.10-py3-none-any.whl size=55615 sha256=aa3f134ca72c3b1e86c2aa1f8a499174627431bc211f56cb961fc3728dea0a67\n",
            "  Stored in directory: /root/.cache/pip/wheels/4a/38/5d/f60a40a66a9512b7e5e83517ebc2d1b42d857be97d135f1096\n",
            "Successfully built umap-learn pynndescent\n",
            "Installing collected packages: pynndescent, umap-learn\n",
            "Successfully installed pynndescent-0.5.10 umap-learn-0.5.4\n"
          ]
        }
      ]
    },
    {
      "cell_type": "code",
      "source": [
        "# Uploading dataset\n",
        "\n",
        "import os\n",
        "import shutil\n",
        "from google.colab import files\n",
        "\n",
        "new_folder = 'Recommender_data'\n",
        "\n",
        "if os.path.isdir(new_folder):\n",
        "  shutil.rmtree(new_folder)\n",
        "\n",
        "os.mkdir(new_folder)\n",
        "\n",
        "# Upload file in the browse menu generated\n",
        "\n",
        "uploaded = files.upload()\n",
        "\n",
        "for filename in uploaded.keys():\n",
        "  destination =os.path.join(new_folder,filename)\n",
        "  print(f'move {filename} to {destination}')\n",
        "  shutil.move(filename,destination)"
      ],
      "metadata": {
        "colab": {
          "base_uri": "https://localhost:8080/",
          "height": 91
        },
        "id": "D30U28ZxfVg1",
        "outputId": "3afbfcd6-46f6-4ab4-81e5-78aef7c6b8f1"
      },
      "execution_count": 1,
      "outputs": [
        {
          "output_type": "display_data",
          "data": {
            "text/plain": [
              "<IPython.core.display.HTML object>"
            ],
            "text/html": [
              "\n",
              "     <input type=\"file\" id=\"files-415c3f7b-0421-49f3-b10c-e4b3254579c3\" name=\"files[]\" multiple disabled\n",
              "        style=\"border:none\" />\n",
              "     <output id=\"result-415c3f7b-0421-49f3-b10c-e4b3254579c3\">\n",
              "      Upload widget is only available when the cell has been executed in the\n",
              "      current browser session. Please rerun this cell to enable.\n",
              "      </output>\n",
              "      <script>// Copyright 2017 Google LLC\n",
              "//\n",
              "// Licensed under the Apache License, Version 2.0 (the \"License\");\n",
              "// you may not use this file except in compliance with the License.\n",
              "// You may obtain a copy of the License at\n",
              "//\n",
              "//      http://www.apache.org/licenses/LICENSE-2.0\n",
              "//\n",
              "// Unless required by applicable law or agreed to in writing, software\n",
              "// distributed under the License is distributed on an \"AS IS\" BASIS,\n",
              "// WITHOUT WARRANTIES OR CONDITIONS OF ANY KIND, either express or implied.\n",
              "// See the License for the specific language governing permissions and\n",
              "// limitations under the License.\n",
              "\n",
              "/**\n",
              " * @fileoverview Helpers for google.colab Python module.\n",
              " */\n",
              "(function(scope) {\n",
              "function span(text, styleAttributes = {}) {\n",
              "  const element = document.createElement('span');\n",
              "  element.textContent = text;\n",
              "  for (const key of Object.keys(styleAttributes)) {\n",
              "    element.style[key] = styleAttributes[key];\n",
              "  }\n",
              "  return element;\n",
              "}\n",
              "\n",
              "// Max number of bytes which will be uploaded at a time.\n",
              "const MAX_PAYLOAD_SIZE = 100 * 1024;\n",
              "\n",
              "function _uploadFiles(inputId, outputId) {\n",
              "  const steps = uploadFilesStep(inputId, outputId);\n",
              "  const outputElement = document.getElementById(outputId);\n",
              "  // Cache steps on the outputElement to make it available for the next call\n",
              "  // to uploadFilesContinue from Python.\n",
              "  outputElement.steps = steps;\n",
              "\n",
              "  return _uploadFilesContinue(outputId);\n",
              "}\n",
              "\n",
              "// This is roughly an async generator (not supported in the browser yet),\n",
              "// where there are multiple asynchronous steps and the Python side is going\n",
              "// to poll for completion of each step.\n",
              "// This uses a Promise to block the python side on completion of each step,\n",
              "// then passes the result of the previous step as the input to the next step.\n",
              "function _uploadFilesContinue(outputId) {\n",
              "  const outputElement = document.getElementById(outputId);\n",
              "  const steps = outputElement.steps;\n",
              "\n",
              "  const next = steps.next(outputElement.lastPromiseValue);\n",
              "  return Promise.resolve(next.value.promise).then((value) => {\n",
              "    // Cache the last promise value to make it available to the next\n",
              "    // step of the generator.\n",
              "    outputElement.lastPromiseValue = value;\n",
              "    return next.value.response;\n",
              "  });\n",
              "}\n",
              "\n",
              "/**\n",
              " * Generator function which is called between each async step of the upload\n",
              " * process.\n",
              " * @param {string} inputId Element ID of the input file picker element.\n",
              " * @param {string} outputId Element ID of the output display.\n",
              " * @return {!Iterable<!Object>} Iterable of next steps.\n",
              " */\n",
              "function* uploadFilesStep(inputId, outputId) {\n",
              "  const inputElement = document.getElementById(inputId);\n",
              "  inputElement.disabled = false;\n",
              "\n",
              "  const outputElement = document.getElementById(outputId);\n",
              "  outputElement.innerHTML = '';\n",
              "\n",
              "  const pickedPromise = new Promise((resolve) => {\n",
              "    inputElement.addEventListener('change', (e) => {\n",
              "      resolve(e.target.files);\n",
              "    });\n",
              "  });\n",
              "\n",
              "  const cancel = document.createElement('button');\n",
              "  inputElement.parentElement.appendChild(cancel);\n",
              "  cancel.textContent = 'Cancel upload';\n",
              "  const cancelPromise = new Promise((resolve) => {\n",
              "    cancel.onclick = () => {\n",
              "      resolve(null);\n",
              "    };\n",
              "  });\n",
              "\n",
              "  // Wait for the user to pick the files.\n",
              "  const files = yield {\n",
              "    promise: Promise.race([pickedPromise, cancelPromise]),\n",
              "    response: {\n",
              "      action: 'starting',\n",
              "    }\n",
              "  };\n",
              "\n",
              "  cancel.remove();\n",
              "\n",
              "  // Disable the input element since further picks are not allowed.\n",
              "  inputElement.disabled = true;\n",
              "\n",
              "  if (!files) {\n",
              "    return {\n",
              "      response: {\n",
              "        action: 'complete',\n",
              "      }\n",
              "    };\n",
              "  }\n",
              "\n",
              "  for (const file of files) {\n",
              "    const li = document.createElement('li');\n",
              "    li.append(span(file.name, {fontWeight: 'bold'}));\n",
              "    li.append(span(\n",
              "        `(${file.type || 'n/a'}) - ${file.size} bytes, ` +\n",
              "        `last modified: ${\n",
              "            file.lastModifiedDate ? file.lastModifiedDate.toLocaleDateString() :\n",
              "                                    'n/a'} - `));\n",
              "    const percent = span('0% done');\n",
              "    li.appendChild(percent);\n",
              "\n",
              "    outputElement.appendChild(li);\n",
              "\n",
              "    const fileDataPromise = new Promise((resolve) => {\n",
              "      const reader = new FileReader();\n",
              "      reader.onload = (e) => {\n",
              "        resolve(e.target.result);\n",
              "      };\n",
              "      reader.readAsArrayBuffer(file);\n",
              "    });\n",
              "    // Wait for the data to be ready.\n",
              "    let fileData = yield {\n",
              "      promise: fileDataPromise,\n",
              "      response: {\n",
              "        action: 'continue',\n",
              "      }\n",
              "    };\n",
              "\n",
              "    // Use a chunked sending to avoid message size limits. See b/62115660.\n",
              "    let position = 0;\n",
              "    do {\n",
              "      const length = Math.min(fileData.byteLength - position, MAX_PAYLOAD_SIZE);\n",
              "      const chunk = new Uint8Array(fileData, position, length);\n",
              "      position += length;\n",
              "\n",
              "      const base64 = btoa(String.fromCharCode.apply(null, chunk));\n",
              "      yield {\n",
              "        response: {\n",
              "          action: 'append',\n",
              "          file: file.name,\n",
              "          data: base64,\n",
              "        },\n",
              "      };\n",
              "\n",
              "      let percentDone = fileData.byteLength === 0 ?\n",
              "          100 :\n",
              "          Math.round((position / fileData.byteLength) * 100);\n",
              "      percent.textContent = `${percentDone}% done`;\n",
              "\n",
              "    } while (position < fileData.byteLength);\n",
              "  }\n",
              "\n",
              "  // All done.\n",
              "  yield {\n",
              "    response: {\n",
              "      action: 'complete',\n",
              "    }\n",
              "  };\n",
              "}\n",
              "\n",
              "scope.google = scope.google || {};\n",
              "scope.google.colab = scope.google.colab || {};\n",
              "scope.google.colab._files = {\n",
              "  _uploadFiles,\n",
              "  _uploadFilesContinue,\n",
              "};\n",
              "})(self);\n",
              "</script> "
            ]
          },
          "metadata": {}
        },
        {
          "output_type": "stream",
          "name": "stdout",
          "text": [
            "Saving online_retail_II.xlsx to online_retail_II.xlsx\n",
            "move online_retail_II.xlsx to Recommender_data/online_retail_II.xlsx\n"
          ]
        }
      ]
    },
    {
      "cell_type": "code",
      "source": [
        "df = pd.read_excel('/content/Recommender_data/online_retail_II.xlsx')\n",
        "print(df.head(5))"
      ],
      "metadata": {
        "colab": {
          "base_uri": "https://localhost:8080/"
        },
        "id": "EUkRhyeqcg3O",
        "outputId": "d5e73183-da42-4269-d65b-f073f2953088"
      },
      "execution_count": 5,
      "outputs": [
        {
          "output_type": "stream",
          "name": "stdout",
          "text": [
            "  Invoice StockCode                          Description  Quantity  \\\n",
            "0  489434     85048  15CM CHRISTMAS GLASS BALL 20 LIGHTS        12   \n",
            "1  489434    79323P                   PINK CHERRY LIGHTS        12   \n",
            "2  489434    79323W                  WHITE CHERRY LIGHTS        12   \n",
            "3  489434     22041         RECORD FRAME 7\" SINGLE SIZE         48   \n",
            "4  489434     21232       STRAWBERRY CERAMIC TRINKET BOX        24   \n",
            "\n",
            "          InvoiceDate  Price  Customer ID         Country  \n",
            "0 2009-12-01 07:45:00   6.95      13085.0  United Kingdom  \n",
            "1 2009-12-01 07:45:00   6.75      13085.0  United Kingdom  \n",
            "2 2009-12-01 07:45:00   6.75      13085.0  United Kingdom  \n",
            "3 2009-12-01 07:45:00   2.10      13085.0  United Kingdom  \n",
            "4 2009-12-01 07:45:00   1.25      13085.0  United Kingdom  \n"
          ]
        }
      ]
    },
    {
      "cell_type": "code",
      "source": [
        "df.shape"
      ],
      "metadata": {
        "colab": {
          "base_uri": "https://localhost:8080/"
        },
        "id": "zS0MhXYsfUzC",
        "outputId": "8c261f8b-93a3-4b49-fee4-d110ee5306e6"
      },
      "execution_count": 6,
      "outputs": [
        {
          "output_type": "execute_result",
          "data": {
            "text/plain": [
              "(525461, 8)"
            ]
          },
          "metadata": {},
          "execution_count": 6
        }
      ]
    },
    {
      "cell_type": "code",
      "source": [
        "df.columns"
      ],
      "metadata": {
        "colab": {
          "base_uri": "https://localhost:8080/"
        },
        "id": "COcsHbCxcpvj",
        "outputId": "e6655089-4404-4cbd-f52a-5828f87151df"
      },
      "execution_count": 7,
      "outputs": [
        {
          "output_type": "execute_result",
          "data": {
            "text/plain": [
              "Index(['Invoice', 'StockCode', 'Description', 'Quantity', 'InvoiceDate',\n",
              "       'Price', 'Customer ID', 'Country'],\n",
              "      dtype='object')"
            ]
          },
          "metadata": {},
          "execution_count": 7
        }
      ]
    },
    {
      "cell_type": "markdown",
      "source": [
        "**Data preprocessing**"
      ],
      "metadata": {
        "id": "37XVcVgXBMAB"
      }
    },
    {
      "cell_type": "code",
      "source": [
        "# Treating missing data\n",
        "\n",
        "df.isnull().sum()"
      ],
      "metadata": {
        "colab": {
          "base_uri": "https://localhost:8080/"
        },
        "id": "WyDoyH_EA-WV",
        "outputId": "40a4e793-8247-4587-9b3b-f9243258d7f4"
      },
      "execution_count": 8,
      "outputs": [
        {
          "output_type": "execute_result",
          "data": {
            "text/plain": [
              "Invoice             0\n",
              "StockCode           0\n",
              "Description      2928\n",
              "Quantity            0\n",
              "InvoiceDate         0\n",
              "Price               0\n",
              "Customer ID    107927\n",
              "Country             0\n",
              "dtype: int64"
            ]
          },
          "metadata": {},
          "execution_count": 8
        }
      ]
    },
    {
      "cell_type": "code",
      "source": [
        "# Removing missing values\n",
        "df.dropna(inplace = True)"
      ],
      "metadata": {
        "id": "rD6minu7BGDS"
      },
      "execution_count": 9,
      "outputs": []
    },
    {
      "cell_type": "code",
      "source": [
        "# Verifying if rows with missing values are removed\n",
        "df.isnull().sum()"
      ],
      "metadata": {
        "colab": {
          "base_uri": "https://localhost:8080/"
        },
        "id": "YCwC-0obBTe9",
        "outputId": "09e0983b-be63-4115-9c82-e9e39edf8686"
      },
      "execution_count": 10,
      "outputs": [
        {
          "output_type": "execute_result",
          "data": {
            "text/plain": [
              "Invoice        0\n",
              "StockCode      0\n",
              "Description    0\n",
              "Quantity       0\n",
              "InvoiceDate    0\n",
              "Price          0\n",
              "Customer ID    0\n",
              "Country        0\n",
              "dtype: int64"
            ]
          },
          "metadata": {},
          "execution_count": 10
        }
      ]
    },
    {
      "cell_type": "code",
      "source": [
        "# Converting Stock code to string datatype\n",
        "df['StockCode'] = df['StockCode'].astype(str)"
      ],
      "metadata": {
        "id": "B4BcAVVtBezP"
      },
      "execution_count": 11,
      "outputs": []
    },
    {
      "cell_type": "code",
      "source": [
        "# Finding the no. of unique customers\n",
        "customers = df['Customer ID'].unique().tolist()"
      ],
      "metadata": {
        "id": "paEjM36yBxC0"
      },
      "execution_count": 12,
      "outputs": []
    },
    {
      "cell_type": "code",
      "source": [
        "len(customers)"
      ],
      "metadata": {
        "colab": {
          "base_uri": "https://localhost:8080/"
        },
        "id": "gFF8mtbHCJxK",
        "outputId": "a87e2c64-d6d3-473e-9f82-9fbc08752d03"
      },
      "execution_count": 13,
      "outputs": [
        {
          "output_type": "execute_result",
          "data": {
            "text/plain": [
              "4383"
            ]
          },
          "metadata": {},
          "execution_count": 13
        }
      ]
    },
    {
      "cell_type": "markdown",
      "source": [
        "**Patitioning data to training and validation sets**"
      ],
      "metadata": {
        "id": "BvM1-o55CiHh"
      }
    },
    {
      "cell_type": "code",
      "source": [
        "random.shuffle(customers) # Shuffling the customer data\n",
        "\n",
        "train_customers = [customers[i] for i in range(round(0.9* len(customers)))]\n",
        "\n",
        "train_data = df[df['Customer ID'].isin(train_customers)]\n",
        "\n",
        "validation_data = df[~df['Customer ID'].isin(train_customers)]\n"
      ],
      "metadata": {
        "id": "bo9iKiY9CYfg"
      },
      "execution_count": 14,
      "outputs": []
    },
    {
      "cell_type": "code",
      "source": [
        "# Creating purchase history of the customers included in the train_data\n",
        "\n",
        "purchases_train = []\n",
        "\n",
        "for customer in tqdm(train_customers):\n",
        "  stockcode = train_data[train_data['Customer ID']==customer]['StockCode'].tolist()\n",
        "  purchases_train.append(stockcode)"
      ],
      "metadata": {
        "colab": {
          "base_uri": "https://localhost:8080/"
        },
        "id": "1cxf0juaEHEi",
        "outputId": "b8f33eef-2856-4446-96a2-aba70189f271"
      },
      "execution_count": 15,
      "outputs": [
        {
          "output_type": "stream",
          "name": "stderr",
          "text": [
            "100%|██████████| 3945/3945 [00:09<00:00, 435.43it/s]\n"
          ]
        }
      ]
    },
    {
      "cell_type": "code",
      "source": [
        "# Creating purchase history of the customers included in the validation_data\n",
        "\n",
        "purchases_valid = []\n",
        "\n",
        "for customer in tqdm(validation_data['Customer ID'].unique()):\n",
        "  stockcode = validation_data[validation_data['Customer ID']==customer]['StockCode'].tolist()\n",
        "  purchases_valid.append(stockcode)"
      ],
      "metadata": {
        "colab": {
          "base_uri": "https://localhost:8080/"
        },
        "id": "Syo6LFzwGBPG",
        "outputId": "6b22614c-4f1f-401e-b437-0fc26bbd2f4d"
      },
      "execution_count": 16,
      "outputs": [
        {
          "output_type": "stream",
          "name": "stderr",
          "text": [
            "100%|██████████| 438/438 [00:00<00:00, 845.73it/s]\n"
          ]
        }
      ]
    },
    {
      "cell_type": "code",
      "source": [
        "purchases_train[0] # Purchase history of 1st customer in train_data or Sentence-0"
      ],
      "metadata": {
        "colab": {
          "base_uri": "https://localhost:8080/"
        },
        "id": "04kt2y-5Hn13",
        "outputId": "cc1895bd-97aa-4b71-a9fe-cb5bc34efcb9"
      },
      "execution_count": 17,
      "outputs": [
        {
          "output_type": "execute_result",
          "data": {
            "text/plain": [
              "['21217',\n",
              " '37424',\n",
              " '84991',\n",
              " '84520D',\n",
              " '47559B',\n",
              " '21212',\n",
              " '21975',\n",
              " '21977',\n",
              " '84992',\n",
              " '85099B',\n",
              " '85099C',\n",
              " '85099F',\n",
              " '21931',\n",
              " '20712',\n",
              " '20711',\n",
              " '20725',\n",
              " '21080',\n",
              " '22134',\n",
              " '22196',\n",
              " '22195',\n",
              " '22357',\n",
              " '22358',\n",
              " '21212',\n",
              " '21843',\n",
              " '22348',\n",
              " '22328',\n",
              " '21975',\n",
              " '22417',\n",
              " '84991',\n",
              " '22352',\n",
              " '21561',\n",
              " '21437',\n",
              " '22262',\n",
              " '22261',\n",
              " '22260',\n",
              " '22383',\n",
              " '22382',\n",
              " '22300',\n",
              " '22301',\n",
              " '21164',\n",
              " '20724',\n",
              " '21080',\n",
              " '21035',\n",
              " '21154',\n",
              " '21931',\n",
              " '85099B',\n",
              " '22385',\n",
              " '22386',\n",
              " '22411',\n",
              " '85099C',\n",
              " '85099F',\n",
              " '22411',\n",
              " '22386',\n",
              " '85099B',\n",
              " '85099F',\n",
              " '85099C',\n",
              " '22385',\n",
              " '21928',\n",
              " '20725',\n",
              " '22383',\n",
              " '22382',\n",
              " '20718',\n",
              " '22328',\n",
              " '21212',\n",
              " '21217',\n",
              " '21843',\n",
              " '22423',\n",
              " '84991',\n",
              " '21977',\n",
              " '22356',\n",
              " '20723',\n",
              " '21246',\n",
              " '21247',\n",
              " '37370',\n",
              " '22375',\n",
              " '21931',\n",
              " '79066K',\n",
              " '21212',\n",
              " '21213',\n",
              " '21975',\n",
              " '22417',\n",
              " '22328',\n",
              " '22348',\n",
              " '22423',\n",
              " '21217',\n",
              " '22385',\n",
              " '40016',\n",
              " '22613',\n",
              " '21931',\n",
              " '85099B',\n",
              " '22386',\n",
              " '22411',\n",
              " '22383',\n",
              " '22384',\n",
              " '20725',\n",
              " '20727',\n",
              " '84692',\n",
              " '16161U',\n",
              " '21156',\n",
              " '22367',\n",
              " '22468',\n",
              " '20718',\n",
              " '21080',\n",
              " '79067',\n",
              " '22663',\n",
              " '22667',\n",
              " '21930',\n",
              " '21931',\n",
              " '22386',\n",
              " '22411',\n",
              " '85099C',\n",
              " '22385',\n",
              " '20727',\n",
              " '20725',\n",
              " '21535',\n",
              " '21843',\n",
              " '22423',\n",
              " '21977',\n",
              " '84991',\n",
              " '79067',\n",
              " '79191B',\n",
              " '37340',\n",
              " '37424',\n",
              " '22328',\n",
              " '20676',\n",
              " '21035',\n",
              " '21080',\n",
              " '21212',\n",
              " '21217',\n",
              " '21527',\n",
              " '79191B',\n",
              " '21843',\n",
              " '21535',\n",
              " '21527',\n",
              " '22675',\n",
              " '21931',\n",
              " '85099F',\n",
              " '85099C',\n",
              " '22663',\n",
              " '22411',\n",
              " '22386',\n",
              " '20711',\n",
              " '22383',\n",
              " '20725',\n",
              " '22384',\n",
              " '21843',\n",
              " '22423',\n",
              " '21217',\n",
              " '21213',\n",
              " '22328',\n",
              " '20718',\n",
              " '22628',\n",
              " '20724',\n",
              " '22355',\n",
              " '22905',\n",
              " '22952',\n",
              " '20713',\n",
              " '21931',\n",
              " '22386',\n",
              " '22411',\n",
              " '85099B',\n",
              " '85099C',\n",
              " '21535',\n",
              " '22423',\n",
              " '21843',\n",
              " '84692',\n",
              " '21527',\n",
              " '22383',\n",
              " '22754',\n",
              " '22138',\n",
              " '84347',\n",
              " '22075',\n",
              " '22734',\n",
              " '85049A',\n",
              " '22812',\n",
              " '22755',\n",
              " '84991',\n",
              " '21213',\n",
              " '22357',\n",
              " '22358',\n",
              " '22357',\n",
              " '21527',\n",
              " '22423',\n",
              " '22411',\n",
              " '22355',\n",
              " '22111',\n",
              " '21485',\n",
              " '21484',\n",
              " '22348',\n",
              " '79067',\n",
              " '22195',\n",
              " '22196',\n",
              " '22898',\n",
              " '22571',\n",
              " '21801',\n",
              " '21802',\n",
              " '21803',\n",
              " '22837',\n",
              " '22840',\n",
              " '84347',\n",
              " '21494',\n",
              " '22952',\n",
              " '21843',\n",
              " '22423',\n",
              " '21041',\n",
              " '21217',\n",
              " '22955',\n",
              " '22956',\n",
              " '22812',\n",
              " '22300',\n",
              " '22301',\n",
              " '22328',\n",
              " '21212',\n",
              " '21931',\n",
              " '21931',\n",
              " '85099B',\n",
              " '22386',\n",
              " '22477',\n",
              " '21875',\n",
              " '37370',\n",
              " '21479',\n",
              " '21484',\n",
              " '21485',\n",
              " '22111',\n",
              " '22837',\n",
              " '22812',\n",
              " '22739',\n",
              " '22924',\n",
              " '22923',\n",
              " '22961',\n",
              " '22964',\n",
              " '22988',\n",
              " '21843',\n",
              " '21217',\n",
              " '79066K',\n",
              " '37370',\n",
              " '21843']"
            ]
          },
          "metadata": {},
          "execution_count": 17
        }
      ]
    },
    {
      "cell_type": "markdown",
      "source": [
        "**Creating Word2Vec embedding for the products**"
      ],
      "metadata": {
        "id": "h0L2FQ8EG8Lr"
      }
    },
    {
      "cell_type": "code",
      "source": [
        "model = Word2Vec(window = 10, sg = 1, hs = 0,\n",
        "                 negative = 10, # for negative sampling\n",
        "                 alpha=0.03, min_alpha=0.0007,\n",
        "                 seed = 14)\n",
        "\n",
        "\n",
        "model.build_vocab(purchases_train,progress_per=200)\n",
        "model.train(purchases_train,total_examples=model.corpus_count,epochs=10,report_delay=1)"
      ],
      "metadata": {
        "colab": {
          "base_uri": "https://localhost:8080/"
        },
        "id": "Gw95wbcKGwLK",
        "outputId": "8b95eda3-5d67-4580-a7cc-e2abdc36b480"
      },
      "execution_count": 18,
      "outputs": [
        {
          "output_type": "execute_result",
          "data": {
            "text/plain": [
              "(3705867, 3755700)"
            ]
          },
          "metadata": {},
          "execution_count": 18
        }
      ]
    },
    {
      "cell_type": "markdown",
      "source": [
        "There are many parameters on this constructor; a few noteworthy arguments you may wish to configure are:\n",
        "\n",
        "    size: (default 100) The number of dimensions of the embedding, e.g. the length of the dense vector to represent each token (word).\n",
        "    window: (default 5) The maximum distance between a target word and words around the target word.\n",
        "    min_count: (default 5) The minimum count of words to consider when training the model; words with an occurrence less than this count will be ignored.\n",
        "    workers: (default 3) The number of threads to use while training.\n",
        "    sg: (default 0 or CBOW) The training algorithm, either CBOW (0) or skip gram (1).\n"
      ],
      "metadata": {
        "id": "yvgjRqSJNhSD"
      }
    },
    {
      "cell_type": "code",
      "source": [
        "print(model) # Model has a vocabulary of 3479 unique words and their vectors of size 100 each"
      ],
      "metadata": {
        "colab": {
          "base_uri": "https://localhost:8080/"
        },
        "id": "0soLzZGJIZsG",
        "outputId": "c54edaa7-3035-411c-d102-1ae8f88feb0b"
      },
      "execution_count": 19,
      "outputs": [
        {
          "output_type": "stream",
          "name": "stdout",
          "text": [
            "Word2Vec<vocab=3482, vector_size=100, alpha=0.03>\n"
          ]
        }
      ]
    },
    {
      "cell_type": "markdown",
      "source": [
        "**Visualising the vectors**"
      ],
      "metadata": {
        "id": "6zXCpVLOWF7w"
      }
    },
    {
      "cell_type": "code",
      "source": [
        "import umap  # To reduce the dimensionality of the vectors for visualization purposes\n"
      ],
      "metadata": {
        "id": "l4JgZa_UXQSS"
      },
      "execution_count": 20,
      "outputs": []
    },
    {
      "cell_type": "code",
      "source": [
        "print(model.wv.vectors.shape)"
      ],
      "metadata": {
        "colab": {
          "base_uri": "https://localhost:8080/"
        },
        "id": "-CtzL4GrpV2C",
        "outputId": "4d863bd7-bcc6-4923-d50e-c69b34cc4cd9"
      },
      "execution_count": 21,
      "outputs": [
        {
          "output_type": "stream",
          "name": "stdout",
          "text": [
            "(3482, 100)\n"
          ]
        }
      ]
    },
    {
      "cell_type": "code",
      "source": [
        "X=model.wv.vectors"
      ],
      "metadata": {
        "id": "09HlJHoKpV-w"
      },
      "execution_count": 22,
      "outputs": []
    },
    {
      "cell_type": "code",
      "source": [
        "# Reducing the dimensions of the product embeddings from 100 to 2 by using the UMAP algorithm\n",
        "\n",
        "cluster_embedding = umap.UMAP(n_neighbors=30, min_dist=0.0,\n",
        "                              n_components=2, random_state=42).fit_transform(X)\n",
        "\n",
        "plt.figure(figsize=(10,9))\n",
        "plt.scatter(cluster_embedding[:, 0], cluster_embedding[:, 1], s=3, cmap='Spectral')"
      ],
      "metadata": {
        "colab": {
          "base_uri": "https://localhost:8080/",
          "height": 770
        },
        "id": "jISUkkeuLhfS",
        "outputId": "57aeac10-f1c3-4b24-ec6a-4831d2e76405"
      },
      "execution_count": 23,
      "outputs": [
        {
          "output_type": "execute_result",
          "data": {
            "text/plain": [
              "<matplotlib.collections.PathCollection at 0x79653430afb0>"
            ]
          },
          "metadata": {},
          "execution_count": 23
        },
        {
          "output_type": "display_data",
          "data": {
            "text/plain": [
              "<Figure size 1000x900 with 1 Axes>"
            ],
            "image/png": "[encoded data removed]"
          },
          "metadata": {}
        }
      ]
    },
    {
      "cell_type": "markdown",
      "source": [
        "Every dot in this plot is a product. There are several tiny clusters of these data points. These are groups of similar products."
      ],
      "metadata": {
        "id": "gVlreDcQqpnM"
      }
    },
    {
      "cell_type": "code",
      "source": [
        "# Creating a product-ID and product-description dictionary\n",
        "\n",
        "products = train_data[['StockCode','Description']]\n",
        "\n",
        "# Remove duplicates\n",
        "products.drop_duplicates(inplace=True, subset = 'StockCode', keep='last')\n",
        "\n",
        "# Creating the product StockCode-Description Dictionary\n",
        "product_dictionary = products.groupby('StockCode')['Description'].apply(list).to_dict()"
      ],
      "metadata": {
        "id": "m8hFvy3iIxzy"
      },
      "execution_count": 24,
      "outputs": []
    },
    {
      "cell_type": "code",
      "source": [
        "# Finding  products similar to product (ID: 22457, natural slate heart chalkboard )\n",
        "product_dictionary['21812'][0].lower()"
      ],
      "metadata": {
        "colab": {
          "base_uri": "https://localhost:8080/",
          "height": 35
        },
        "id": "-yVnwqR2Jcog",
        "outputId": "e702ce21-0046-4b8b-b960-950b9bd82285"
      },
      "execution_count": 25,
      "outputs": [
        {
          "output_type": "execute_result",
          "data": {
            "text/plain": [
              "'garland with hearts and bells'"
            ],
            "application/vnd.google.colaboratory.intrinsic+json": {
              "type": "string"
            }
          },
          "metadata": {},
          "execution_count": 25
        }
      ]
    },
    {
      "cell_type": "code",
      "source": [
        "print('Products similar to \"'+ product_dictionary['21812'][0].lower() +' with similarity score:')\n",
        "for name in model.wv.most_similar('21812',topn=10):\n",
        "  print(f'{product_dictionary[name[0]][0].lower()}, {round(name[1],2)}')"
      ],
      "metadata": {
        "colab": {
          "base_uri": "https://localhost:8080/"
        },
        "id": "XCvRj2zXR6S8",
        "outputId": "bebefb0e-be30-4952-bd3a-a7afc41bbd3c"
      },
      "execution_count": 26,
      "outputs": [
        {
          "output_type": "stream",
          "name": "stdout",
          "text": [
            "Products similar to \"garland with hearts and bells with similarity score:\n",
            "garland with stars and bells, 0.73\n",
            "christmas hanging tree with bell, 0.65\n",
            "christmas hanging heart with bell, 0.64\n",
            "glitter heart garland with bells , 0.63\n",
            "star  t-light holder , 0.63\n",
            "christmas hanging star with bell, 0.62\n",
            "christmas tree t-light holder, 0.61\n",
            "set of 4 napkin charms instrument, 0.58\n",
            "heart garland rustic padded, 0.58\n",
            "assorted easter decorations  bells, 0.55\n"
          ]
        }
      ]
    },
    {
      "cell_type": "markdown",
      "source": [
        "**Recommending products based on the entire purchase history of the customer**"
      ],
      "metadata": {
        "id": "ADleH_P8r_rx"
      }
    },
    {
      "cell_type": "code",
      "source": [
        "\n",
        "# Function to calculate the average of all the vectors of the products the user has bought so far\n",
        "# and use this resultant vector to find similar products\n",
        "\n",
        "def aggregate_vectors(products):\n",
        "    product_vec = []\n",
        "    for i in products:\n",
        "        try:\n",
        "            product_vec.append(model.wv[i] )\n",
        "        except KeyError:\n",
        "            continue\n",
        "\n",
        "    return np.mean(product_vec, axis=0)\n"
      ],
      "metadata": {
        "id": "SI1Y-YgwSuNH"
      },
      "execution_count": 27,
      "outputs": []
    },
    {
      "cell_type": "code",
      "source": [
        "len(purchases_valid[0]) # No. of customers in the test data set"
      ],
      "metadata": {
        "colab": {
          "base_uri": "https://localhost:8080/"
        },
        "id": "6Y_QVXpur9J_",
        "outputId": "658f1540-3a22-4c7c-d3c9-4729351fdc8c"
      },
      "execution_count": 28,
      "outputs": [
        {
          "output_type": "execute_result",
          "data": {
            "text/plain": [
              "635"
            ]
          },
          "metadata": {},
          "execution_count": 28
        }
      ]
    },
    {
      "cell_type": "code",
      "source": [
        "aggregate_vectors(purchases_valid[0]).shape # Purchase history of customer-1 in the test set"
      ],
      "metadata": {
        "colab": {
          "base_uri": "https://localhost:8080/"
        },
        "id": "mNFmwj8yuYyW",
        "outputId": "b4ae2cc0-0c3c-47a9-ff09-b748b1f14377"
      },
      "execution_count": 29,
      "outputs": [
        {
          "output_type": "execute_result",
          "data": {
            "text/plain": [
              "(100,)"
            ]
          },
          "metadata": {},
          "execution_count": 29
        }
      ]
    },
    {
      "cell_type": "code",
      "source": [
        "def similar_products(v, n = 6):\n",
        "    # Extract most similar products for the input vector\n",
        "\n",
        "    #for name in model.wv.most_similar(v,topn=10):\n",
        "     #  print(f'{product_dictionary[name[0]][0].lower()}, {round(name[1],2)}')\n",
        "    return model.wv.most_similar(v,topn=10)\n",
        ""
      ],
      "metadata": {
        "id": "j28aiCzSv7Pa"
      },
      "execution_count": 30,
      "outputs": []
    },
    {
      "cell_type": "code",
      "source": [
        "len(purchases_valid) # no.of customers in test data"
      ],
      "metadata": {
        "colab": {
          "base_uri": "https://localhost:8080/"
        },
        "id": "e81Kvhs8xAQA",
        "outputId": "e9951afe-4d95-4b9c-90db-f5e2fa5d060b"
      },
      "execution_count": 31,
      "outputs": [
        {
          "output_type": "execute_result",
          "data": {
            "text/plain": [
              "438"
            ]
          },
          "metadata": {},
          "execution_count": 31
        }
      ]
    },
    {
      "cell_type": "code",
      "source": [
        "Customer_no = input(\"choose customer no.: (1-438) \")\n",
        "print('Products recommended based on purchase history of customer-'+ str(Customer_no) +' with similarity score:')\n",
        "similar_products(aggregate_vectors(purchases_valid[int(Customer_no)]))"
      ],
      "metadata": {
        "colab": {
          "base_uri": "https://localhost:8080/"
        },
        "id": "pAUt0Kj5ueuD",
        "outputId": "ed9532d0-bbf1-43d2-b58c-20b3ec2cbcb3"
      },
      "execution_count": 64,
      "outputs": [
        {
          "output_type": "stream",
          "name": "stdout",
          "text": [
            "choose customer no.: (1-438) 7\n",
            "Products recommended based on purchase history of customer-7 with similarity score:\n"
          ]
        },
        {
          "output_type": "execute_result",
          "data": {
            "text/plain": [
              "[('85049A', 0.7578816413879395),\n",
              " ('22086', 0.7269555926322937),\n",
              " ('85049E', 0.7236527800559998),\n",
              " ('22734', 0.7137758135795593),\n",
              " ('22077', 0.6920883059501648),\n",
              " ('22910', 0.6673874855041504),\n",
              " ('22835', 0.6613509058952332),\n",
              " ('22909', 0.6545132398605347),\n",
              " ('22580', 0.6541395783424377),\n",
              " ('22113', 0.647131621837616)]"
            ]
          },
          "metadata": {},
          "execution_count": 64
        }
      ]
    },
    {
      "cell_type": "markdown",
      "source": [
        "**Recommending products based on the last 10 purchases of the customer**"
      ],
      "metadata": {
        "id": "Tsw_-mpmx-AX"
      }
    },
    {
      "cell_type": "code",
      "source": [
        "Customer_no = input(\"choose customer no.: (1-438) \")\n",
        "print('Products recommended based on purchase history(last 10 purchases) of customer-'+ str(Customer_no) +' with similarity score:')\n",
        "similar_products(aggregate_vectors(purchases_valid[int(Customer_no)][-10:]))"
      ],
      "metadata": {
        "colab": {
          "base_uri": "https://localhost:8080/"
        },
        "id": "iT2ywHTbvPIG",
        "outputId": "3228feaa-e98e-4818-8140-cce6bfc8bf03"
      },
      "execution_count": 65,
      "outputs": [
        {
          "output_type": "stream",
          "name": "stdout",
          "text": [
            "choose customer no.: (1-438) 8\n",
            "Products recommended based on purchase history(last 10 purchases) of customer-8 with similarity score:\n"
          ]
        },
        {
          "output_type": "execute_result",
          "data": {
            "text/plain": [
              "[('82580', 0.6432666182518005),\n",
              " ('22457', 0.6401897668838501),\n",
              " ('22964', 0.6247691512107849),\n",
              " ('22488', 0.6190935969352722),\n",
              " ('22915', 0.6163299083709717),\n",
              " ('22966', 0.6145574450492859),\n",
              " ('22829', 0.6133120656013489),\n",
              " ('22923', 0.6115604043006897),\n",
              " ('22937', 0.6040732264518738),\n",
              " ('82583', 0.6028977632522583)]"
            ]
          },
          "metadata": {},
          "execution_count": 65
        }
      ]
    },
    {
      "cell_type": "markdown",
      "source": [
        "**Model Evaluation**"
      ],
      "metadata": {
        "id": "xfHAqa3h3a1X"
      }
    },
    {
      "cell_type": "code",
      "source": [
        "# Removing customers with purchase history less than 50 items\n",
        "\n",
        "customer_array = []\n",
        "\n",
        "for i in range(len(purchases_valid)):\n",
        "  if len(purchases_valid[i]) >= 50:\n",
        "    customer_array.append(i)\n",
        "\n",
        "# Customers with purchase history greater than 50 items\n",
        "print(len(customer_array))  # 206 Customers with purchase history greater than 50 items\n",
        "print(customer_array)"
      ],
      "metadata": {
        "colab": {
          "base_uri": "https://localhost:8080/"
        },
        "id": "jlvh9Ey88CLq",
        "outputId": "fdfc50fc-d626-493b-b555-98393a3d0974"
      },
      "execution_count": 44,
      "outputs": [
        {
          "output_type": "stream",
          "name": "stdout",
          "text": [
            "206\n",
            "[0, 4, 5, 6, 8, 9, 11, 13, 15, 17, 18, 19, 20, 21, 22, 23, 24, 26, 27, 28, 30, 31, 32, 33, 34, 35, 36, 37, 38, 39, 40, 42, 43, 45, 46, 48, 49, 51, 53, 54, 55, 56, 58, 61, 62, 63, 64, 65, 66, 68, 69, 70, 71, 74, 75, 76, 77, 78, 80, 81, 82, 83, 84, 85, 86, 90, 91, 94, 95, 97, 98, 99, 100, 102, 103, 104, 105, 106, 109, 110, 111, 112, 114, 115, 117, 118, 123, 125, 126, 128, 129, 130, 131, 133, 134, 136, 137, 141, 143, 149, 152, 158, 160, 161, 164, 165, 166, 167, 168, 169, 171, 173, 175, 176, 177, 178, 179, 181, 182, 183, 185, 188, 189, 191, 192, 197, 200, 204, 205, 206, 208, 210, 211, 216, 217, 218, 219, 222, 229, 231, 232, 237, 238, 239, 240, 242, 244, 245, 247, 248, 249, 250, 252, 254, 256, 263, 264, 265, 268, 270, 271, 277, 279, 286, 293, 297, 300, 304, 307, 308, 313, 315, 316, 317, 318, 322, 323, 324, 330, 334, 336, 337, 338, 346, 348, 353, 355, 356, 358, 359, 364, 365, 366, 368, 377, 378, 380, 394, 396, 405, 407, 418, 420, 429, 430, 436]\n"
          ]
        }
      ]
    },
    {
      "cell_type": "code",
      "source": [
        "# Calculting precision and recall for the customers\n",
        "\n",
        "precision = []\n",
        "recall = []\n",
        "recommended_products = {}\n",
        "\n",
        "\n",
        "for customer in customer_array:\n",
        "  recommended = []\n",
        "  relevant_items = []\n",
        "  recommended_products[customer] = similar_products(aggregate_vectors(purchases_valid[int(customer)][:39]))\n",
        "\n",
        "  for i in purchases_valid[customer][40:50]:\n",
        "    if i in model.wv:\n",
        "      for item in model.wv.most_similar(i,topn=5):\n",
        "        relevant_items.append(item[0])\n",
        "\n",
        "  for item in recommended_products[customer]:\n",
        "    recommended.append(item[0])\n",
        "\n",
        "  true_positive = len(set(recommended).intersection(set(relevant_items)))\n",
        "  precision_value = true_positive / 10\n",
        "  total_relevant_items = len(relevant_items)\n",
        "  recall_value = true_positive / total_relevant_items\n",
        "\n",
        "  precision.append(precision_value)\n",
        "  recall.append(recall_value)\n",
        "\n",
        "\n",
        "plt.figure(figsize=(6,5))\n",
        "plt.bar(customer_array,precision, color ='green',\n",
        "        width = 3)\n",
        "\n",
        "count = 0\n",
        "\n",
        "for i in precision:\n",
        "  if i > 0.5 :\n",
        "    count += 1\n",
        "\n",
        "print(f'{count} of the customers among {len(customer_array)} got recommendations with precision > 0.5')\n",
        "print(f'Precision of the model lies between {min(precision)} and {max(precision)}')\n",
        "print(f'Recall of the model lies between {min(recall)} and {max(recall)}')\n",
        "\n"
      ],
      "metadata": {
        "colab": {
          "base_uri": "https://localhost:8080/",
          "height": 497
        },
        "id": "LMlsiqmNrzNW",
        "outputId": "dad09479-0924-4705-d478-3d65e7d60282"
      },
      "execution_count": 52,
      "outputs": [
        {
          "output_type": "stream",
          "name": "stdout",
          "text": [
            "17 of the customers among 206 got recommendations with precision > 0.5\n",
            "Precision of the model lies between 0.0 and 0.9\n",
            "Recall of the model lies between 0.0 and 0.18\n"
          ]
        },
        {
          "output_type": "display_data",
          "data": {
            "text/plain": [
              "<Figure size 600x500 with 1 Axes>"
            ],
            "image/png": "[encoded data removed]"
          },
          "metadata": {}
        }
      ]
    },
    {
      "cell_type": "code",
      "source": [
        "# Calculating the nDCG  values for the customers"
      ],
      "metadata": {
        "id": "MB0Vo9ylBUtj"
      },
      "execution_count": 47,
      "outputs": []
    },
    {
      "cell_type": "code",
      "source": [
        "relevant = []\n",
        "recommended =[]\n",
        "\n",
        "for customer in customer_array:\n",
        "  recommended_items = []\n",
        "  relevant_items = []\n",
        "\n",
        "  for i in purchases_valid[customer][40:50]:\n",
        "    if i in model.wv:\n",
        "      for item in model.wv.most_similar(i,topn=5):\n",
        "        relevant_items.append(item[0])\n",
        "\n",
        "  for item in recommended_products[customer]:\n",
        "    recommended_items.append(item[0])\n",
        "\n",
        "  relevant.append(relevant_items)\n",
        "  recommended.append(recommended_items)\n",
        "\n"
      ],
      "metadata": {
        "id": "rxADJxIq3wcR"
      },
      "execution_count": 59,
      "outputs": []
    },
    {
      "cell_type": "code",
      "source": [
        "import math\n",
        "def discounted_cumulative_gain(recommended_items, relevant_items):\n",
        "    dcg = 0\n",
        "    for i, item in enumerate(recommended_items, start=1):\n",
        "        if item in relevant_items:\n",
        "            dcg += 1 / (math.log2(i + 1))\n",
        "    return dcg\n",
        "\n",
        "def ideal_discounted_cumulative_gain(recommended_items, relevant_items):\n",
        "    sorted_relevant_items = sorted(relevant_items, key=lambda x: recommended_items.index(x) if x in recommended_items else float('inf'))\n",
        "    return discounted_cumulative_gain(sorted_relevant_items, relevant_items)\n",
        "\n",
        "def normalized_discounted_cumulative_gain(recommended_items, relevant_items):\n",
        "    dcg = discounted_cumulative_gain(recommended_items, relevant_items)\n",
        "    idcg = ideal_discounted_cumulative_gain(recommended_items, relevant_items)\n",
        "\n",
        "    if idcg == 0:\n",
        "        return 0\n",
        "    else:\n",
        "        return round(dcg / idcg, 2)\n",
        "\n",
        "\n",
        "ndcg_values = [normalized_discounted_cumulative_gain(rec, rel)\n",
        "               for rec, rel in zip(recommended, relevant)]\n",
        "\n",
        "\n",
        "for i in ndcg_values:\n",
        "  if i > 0.2 :\n",
        "    count += 1\n",
        "\n",
        "print(f'NDCG values of the model lies between {min(ndcg_values)} and {max(ndcg_values)} and {count} customers obtained positionally correct recommendations with ndcg > 0.2')\n",
        "\n",
        "\n"
      ],
      "metadata": {
        "colab": {
          "base_uri": "https://localhost:8080/"
        },
        "id": "mIpiwJ-3_Lwa",
        "outputId": "208db5aa-9f3e-4a9c-8def-b25192d788ea"
      },
      "execution_count": 63,
      "outputs": [
        {
          "output_type": "stream",
          "name": "stdout",
          "text": [
            "NDCG values of the model lies between 0.0 and 0.33 and 36 customers obtained positionally correct recommendations with ndcg > 0.2\n"
          ]
        }
      ]
    },
    {
      "cell_type": "code",
      "source": [],
      "metadata": {
        "id": "63ZrPucp3u6n"
      },
      "execution_count": 60,
      "outputs": []
    },
    {
      "cell_type": "code",
      "source": [],
      "metadata": {
        "id": "FbdE0BqF2XPl"
      },
      "execution_count": null,
      "outputs": []
    }
  ]
}