{
 "cells": [
  {
   "cell_type": "code",
   "execution_count": 1,
   "metadata": {},
   "outputs": [
    {
     "name": "stderr",
     "output_type": "stream",
     "text": [
      "2024-02-09 16:49:22.815171: E external/local_xla/xla/stream_executor/cuda/cuda_dnn.cc:9261] Unable to register cuDNN factory: Attempting to register factory for plugin cuDNN when one has already been registered\n",
      "2024-02-09 16:49:22.815452: E external/local_xla/xla/stream_executor/cuda/cuda_fft.cc:607] Unable to register cuFFT factory: Attempting to register factory for plugin cuFFT when one has already been registered\n",
      "2024-02-09 16:49:22.892213: E external/local_xla/xla/stream_executor/cuda/cuda_blas.cc:1515] Unable to register cuBLAS factory: Attempting to register factory for plugin cuBLAS when one has already been registered\n",
      "2024-02-09 16:49:23.057550: I tensorflow/core/platform/cpu_feature_guard.cc:182] This TensorFlow binary is optimized to use available CPU instructions in performance-critical operations.\n",
      "To enable the following instructions: AVX2 FMA, in other operations, rebuild TensorFlow with the appropriate compiler flags.\n",
      "2024-02-09 16:49:27.492774: W tensorflow/compiler/tf2tensorrt/utils/py_utils.cc:38] TF-TRT Warning: Could not find TensorRT\n"
     ]
    }
   ],
   "source": [
    "#!pip install --quiet --upgrade nest-asyncio\n",
    "\n",
    "import nest_asyncio\n",
    "nest_asyncio.apply()\n",
    "\n",
    "import io\n",
    "import datetime\n",
    "import collections\n",
    "import functools\n",
    "from typing import List, Optional, Tuple\n",
    "import matplotlib.pyplot as plt\n",
    "\n",
    "import numpy as np\n",
    "import pandas as pd\n",
    "from sklearn.model_selection import train_test_split\n",
    "import tensorflow as tf\n",
    "import tensorflow_ranking as tfr\n",
    "import tensorflow_federated as tff\n",
    "import tensorflow.keras as keras\n",
    "from tensorflow.keras.models import Model\n",
    "from tensorflow.keras.regularizers import l2\n",
    "from tensorflow.keras.optimizers import Adam\n",
    "from tensorflow.keras.layers import (\n",
    "    Concatenate,\n",
    "    Dense,\n",
    "    Embedding,\n",
    "    Flatten,\n",
    "    Input,\n",
    "    Multiply,\n",
    ")"
   ]
  },
  {
   "cell_type": "code",
   "execution_count": 2,
   "metadata": {},
   "outputs": [],
   "source": [
    "np.random.seed(42)"
   ]
  },
  {
   "cell_type": "code",
   "execution_count": 3,
   "metadata": {},
   "outputs": [
    {
     "data": {
      "text/html": [
       "<div>\n",
       "<style scoped>\n",
       "    .dataframe tbody tr th:only-of-type {\n",
       "        vertical-align: middle;\n",
       "    }\n",
       "\n",
       "    .dataframe tbody tr th {\n",
       "        vertical-align: top;\n",
       "    }\n",
       "\n",
       "    .dataframe thead th {\n",
       "        text-align: right;\n",
       "    }\n",
       "</style>\n",
       "<table border=\"1\" class=\"dataframe\">\n",
       "  <thead>\n",
       "    <tr style=\"text-align: right;\">\n",
       "      <th></th>\n",
       "      <th>User-ID</th>\n",
       "      <th>ISBN</th>\n",
       "      <th>Rating</th>\n",
       "    </tr>\n",
       "  </thead>\n",
       "  <tbody>\n",
       "    <tr>\n",
       "      <th>0</th>\n",
       "      <td>276725</td>\n",
       "      <td>034545104X</td>\n",
       "      <td>0</td>\n",
       "    </tr>\n",
       "  </tbody>\n",
       "</table>\n",
       "</div>"
      ],
      "text/plain": [
       "   User-ID        ISBN  Rating\n",
       "0   276725  034545104X       0"
      ]
     },
     "execution_count": 3,
     "metadata": {},
     "output_type": "execute_result"
    }
   ],
   "source": [
    "ratings_df = pd.read_csv('data/Ratings.csv',delimiter=';')\n",
    "books_df = pd.read_csv('data/Books.csv',delimiter=';')\n",
    "ratings_df.head(1)"
   ]
  },
  {
   "cell_type": "code",
   "execution_count": 4,
   "metadata": {},
   "outputs": [
    {
     "data": {
      "text/plain": [
       "(1149780, 3)"
      ]
     },
     "execution_count": 4,
     "metadata": {},
     "output_type": "execute_result"
    }
   ],
   "source": [
    "ratings_df.shape"
   ]
  },
  {
   "cell_type": "code",
   "execution_count": 5,
   "metadata": {},
   "outputs": [],
   "source": [
    "counts = ratings_df['User-ID'].value_counts()\n",
    "ratings_df = ratings_df[ratings_df['User-ID'].isin(counts[counts>60].index)]\n",
    "#ratings_df = ratings_df[ratings_df.Rating > 2]\n",
    "\n",
    "tot_rating_df = ratings_df.groupby(by='ISBN')['Rating'].sum().reset_index().rename(columns={'Rating':'TotRating'})\n",
    "ratings_df = ratings_df.merge(tot_rating_df)\n",
    "ratings_df = ratings_df[ratings_df['TotRating']>20] "
   ]
  },
  {
   "cell_type": "code",
   "execution_count": 6,
   "metadata": {},
   "outputs": [
    {
     "data": {
      "text/html": [
       "<div>\n",
       "<style scoped>\n",
       "    .dataframe tbody tr th:only-of-type {\n",
       "        vertical-align: middle;\n",
       "    }\n",
       "\n",
       "    .dataframe tbody tr th {\n",
       "        vertical-align: top;\n",
       "    }\n",
       "\n",
       "    .dataframe thead th {\n",
       "        text-align: right;\n",
       "    }\n",
       "</style>\n",
       "<table border=\"1\" class=\"dataframe\">\n",
       "  <thead>\n",
       "    <tr style=\"text-align: right;\">\n",
       "      <th></th>\n",
       "      <th>User-ID</th>\n",
       "      <th>ISBN</th>\n",
       "      <th>Rating</th>\n",
       "    </tr>\n",
       "  </thead>\n",
       "  <tbody>\n",
       "    <tr>\n",
       "      <th>8</th>\n",
       "      <td>276925</td>\n",
       "      <td>002542730X</td>\n",
       "      <td>10</td>\n",
       "    </tr>\n",
       "    <tr>\n",
       "      <th>9</th>\n",
       "      <td>277427</td>\n",
       "      <td>002542730X</td>\n",
       "      <td>10</td>\n",
       "    </tr>\n",
       "    <tr>\n",
       "      <th>10</th>\n",
       "      <td>3363</td>\n",
       "      <td>002542730X</td>\n",
       "      <td>0</td>\n",
       "    </tr>\n",
       "    <tr>\n",
       "      <th>11</th>\n",
       "      <td>8019</td>\n",
       "      <td>002542730X</td>\n",
       "      <td>9</td>\n",
       "    </tr>\n",
       "    <tr>\n",
       "      <th>12</th>\n",
       "      <td>10030</td>\n",
       "      <td>002542730X</td>\n",
       "      <td>7</td>\n",
       "    </tr>\n",
       "    <tr>\n",
       "      <th>...</th>\n",
       "      <td>...</td>\n",
       "      <td>...</td>\n",
       "      <td>...</td>\n",
       "    </tr>\n",
       "    <tr>\n",
       "      <th>715085</th>\n",
       "      <td>250925</td>\n",
       "      <td>0836213092</td>\n",
       "      <td>10</td>\n",
       "    </tr>\n",
       "    <tr>\n",
       "      <th>715086</th>\n",
       "      <td>271284</td>\n",
       "      <td>0836213092</td>\n",
       "      <td>8</td>\n",
       "    </tr>\n",
       "    <tr>\n",
       "      <th>719995</th>\n",
       "      <td>243294</td>\n",
       "      <td>0006510183</td>\n",
       "      <td>10</td>\n",
       "    </tr>\n",
       "    <tr>\n",
       "      <th>719996</th>\n",
       "      <td>263344</td>\n",
       "      <td>0006510183</td>\n",
       "      <td>8</td>\n",
       "    </tr>\n",
       "    <tr>\n",
       "      <th>719997</th>\n",
       "      <td>267033</td>\n",
       "      <td>0006510183</td>\n",
       "      <td>8</td>\n",
       "    </tr>\n",
       "  </tbody>\n",
       "</table>\n",
       "<p>278951 rows × 3 columns</p>\n",
       "</div>"
      ],
      "text/plain": [
       "        User-ID        ISBN  Rating\n",
       "8        276925  002542730X      10\n",
       "9        277427  002542730X      10\n",
       "10         3363  002542730X       0\n",
       "11         8019  002542730X       9\n",
       "12        10030  002542730X       7\n",
       "...         ...         ...     ...\n",
       "715085   250925  0836213092      10\n",
       "715086   271284  0836213092       8\n",
       "719995   243294  0006510183      10\n",
       "719996   263344  0006510183       8\n",
       "719997   267033  0006510183       8\n",
       "\n",
       "[278951 rows x 3 columns]"
      ]
     },
     "execution_count": 6,
     "metadata": {},
     "output_type": "execute_result"
    }
   ],
   "source": [
    "ratings_df.drop(columns=['TotRating'])"
   ]
  },
  {
   "cell_type": "code",
   "execution_count": 7,
   "metadata": {},
   "outputs": [],
   "source": [
    "book_mapping = {\n",
    "      old_book: new_book for new_book, old_book in enumerate(\n",
    "          ratings_df.ISBN.unique())\n",
    "  }\n",
    "user_mapping = {\n",
    "    old_user: new_user for new_user, old_user in enumerate(\n",
    "        ratings_df['User-ID'].unique())\n",
    "}\n",
    "\n",
    "ratings_df.ISBN = ratings_df.ISBN.map(book_mapping)\n",
    "ratings_df['User-ID'] = ratings_df['User-ID'].map(user_mapping)\n",
    "books_df.ISBN = books_df.ISBN.map(book_mapping)\n"
   ]
  },
  {
   "cell_type": "code",
   "execution_count": 8,
   "metadata": {},
   "outputs": [
    {
     "data": {
      "text/html": [
       "<div>\n",
       "<style scoped>\n",
       "    .dataframe tbody tr th:only-of-type {\n",
       "        vertical-align: middle;\n",
       "    }\n",
       "\n",
       "    .dataframe tbody tr th {\n",
       "        vertical-align: top;\n",
       "    }\n",
       "\n",
       "    .dataframe thead th {\n",
       "        text-align: right;\n",
       "    }\n",
       "</style>\n",
       "<table border=\"1\" class=\"dataframe\">\n",
       "  <thead>\n",
       "    <tr style=\"text-align: right;\">\n",
       "      <th></th>\n",
       "      <th>User-ID</th>\n",
       "      <th>ISBN</th>\n",
       "      <th>Rating</th>\n",
       "      <th>TotRating</th>\n",
       "    </tr>\n",
       "  </thead>\n",
       "  <tbody>\n",
       "    <tr>\n",
       "      <th>8</th>\n",
       "      <td>0</td>\n",
       "      <td>0</td>\n",
       "      <td>10</td>\n",
       "      <td>297</td>\n",
       "    </tr>\n",
       "  </tbody>\n",
       "</table>\n",
       "</div>"
      ],
      "text/plain": [
       "   User-ID  ISBN  Rating  TotRating\n",
       "8        0     0      10        297"
      ]
     },
     "execution_count": 8,
     "metadata": {},
     "output_type": "execute_result"
    }
   ],
   "source": [
    "ratings_df.head(1)"
   ]
  },
  {
   "cell_type": "code",
   "execution_count": 9,
   "metadata": {},
   "outputs": [],
   "source": [
    "def create_tf_datasets(ratings_df: pd.DataFrame,\n",
    "                       batch_size: int = 1,\n",
    "                       max_examples_per_user: Optional[int] = None,\n",
    "                       max_clients: Optional[int] = None) -> List[tf.data.Dataset]:\n",
    "  \"\"\"Creates TF Datasets containing the movies and ratings for all users.\"\"\"\n",
    "  num_users = len(set(ratings_df['User-ID']))\n",
    "  # Optionally limit to `max_clients` to speed up data loading.\n",
    "  if max_clients is not None:\n",
    "    num_users = min(num_users, max_clients)\n",
    "\n",
    "  def rating_batch_map_fn(rating_batch):\n",
    "    \"\"\"Maps a rating batch to an OrderedDict with tensor values.\"\"\"\n",
    "    # Each example looks like: {x: movie_id, y: rating}.\n",
    "    # We won't need the UserID since each client will only look at their own\n",
    "    # data.\n",
    "    return collections.OrderedDict([\n",
    "        (\"x\", tf.cast(rating_batch[:, 1:2], tf.int64)),\n",
    "        (\"y\", tf.cast(rating_batch[:, 2:3], tf.float32))\n",
    "    ])\n",
    "\n",
    "  tf_datasets = []\n",
    "  for user_id in range(num_users):\n",
    "    # Get subset of ratings_df belonging to a particular user.\n",
    "    user_ratings_df = ratings_df[ratings_df['User-ID'] == user_id]\n",
    "\n",
    "    tf_dataset = tf.data.Dataset.from_tensor_slices(user_ratings_df)\n",
    "\n",
    "    # Define preprocessing operations.\n",
    "    tf_dataset = tf_dataset.take(max_examples_per_user).shuffle(\n",
    "        buffer_size=max_examples_per_user, seed=42).batch(batch_size).map(\n",
    "        rating_batch_map_fn,\n",
    "        num_parallel_calls=tf.data.experimental.AUTOTUNE)\n",
    "    tf_datasets.append(tf_dataset)\n",
    "\n",
    "  return tf_datasets\n",
    "\n",
    "\n",
    "def split_tf_datasets(\n",
    "    tf_datasets: List[tf.data.Dataset],\n",
    "    train_fraction: float = 0.8,\n",
    "    val_fraction: float = 0.1,\n",
    ") -> Tuple[List[tf.data.Dataset], List[tf.data.Dataset], List[tf.data.Dataset]]:\n",
    "  \"\"\"Splits a list of user TF datasets into train/val/test by user.\n",
    "  \"\"\"\n",
    "  np.random.seed(42)\n",
    "  np.random.shuffle(tf_datasets)\n",
    "\n",
    "  train_idx = int(len(tf_datasets) * train_fraction)\n",
    "  val_idx = int(len(tf_datasets) * (train_fraction + val_fraction))\n",
    "\n",
    "  # Note that the val and test data contains completely different users, not\n",
    "  # just unseen ratings from train users.\n",
    "  return (tf_datasets[:train_idx], tf_datasets[train_idx:val_idx],\n",
    "          tf_datasets[val_idx:])\n"
   ]
  },
  {
   "cell_type": "code",
   "execution_count": 10,
   "metadata": {},
   "outputs": [],
   "source": [
    "# We limit the number of clients to speed up dataset creation. Feel free to pass\n",
    "# max_clients=None to load all clients' data.\n",
    "tf_datasets = create_tf_datasets(\n",
    "    ratings_df=ratings_df,\n",
    "    batch_size=5,\n",
    "    max_examples_per_user=300,\n",
    "    max_clients=2000)\n",
    "\n",
    "# Split the ratings into training/val/test by client.\n",
    "tf_train_datasets, tf_val_datasets, tf_test_datasets = split_tf_datasets(\n",
    "    tf_datasets,\n",
    "    train_fraction=0.8,\n",
    "    val_fraction=0.1)\n"
   ]
  },
  {
   "cell_type": "code",
   "execution_count": 11,
   "metadata": {},
   "outputs": [],
   "source": [
    "#list(federated_train_data[0].as_numpy_iterator())"
   ]
  },
  {
   "cell_type": "code",
   "execution_count": 12,
   "metadata": {},
   "outputs": [
    {
     "data": {
      "text/plain": [
       "(2868, 13784)"
      ]
     },
     "execution_count": 12,
     "metadata": {},
     "output_type": "execute_result"
    }
   ],
   "source": [
    "n_users, n_books = len(ratings_df['User-ID'].unique()), len(ratings_df['ISBN'].unique())\n",
    "n_users, n_books"
   ]
  },
  {
   "cell_type": "code",
   "execution_count": 13,
   "metadata": {},
   "outputs": [],
   "source": [
    "class UserEmbedding(tf.keras.layers.Layer):\n",
    "  \"\"\"Keras layer representing an embedding for a single user\"\"\"\n",
    "\n",
    "  def __init__(self, num_latent_factors, **kwargs):\n",
    "    super().__init__(**kwargs)\n",
    "    self.num_latent_factors = num_latent_factors\n",
    "\n",
    "  def build(self, input_shape):\n",
    "    self.embedding = self.add_weight(\n",
    "        shape=(1, self.num_latent_factors),\n",
    "        initializer='uniform',\n",
    "        dtype=tf.float32,\n",
    "        name='UserEmbeddingKernel')\n",
    "    super().build(input_shape)\n",
    "\n",
    "  def call(self, inputs):\n",
    "    return self.embedding\n",
    "\n",
    "  def compute_output_shape(self):\n",
    "    return (1, self.num_latent_factors)\n",
    "\n",
    "\n",
    "def get_matrix_factorization_model(\n",
    "    num_items: int,\n",
    "    num_latent_factors: int,\n",
    "    dense_layers: List[int] = [8, 4],\n",
    "    reg_layers: List[int] = [0.01, 0.01],\n",
    "    activation_dense: str = \"relu\") ->  keras.Model:\n",
    "    global_layers = []\n",
    "    local_layers = []\n",
    "    \n",
    "\n",
    "    # Extract the item embedding.\n",
    "    item_input = tf.keras.layers.Input(shape=[1], name='Item')\n",
    "    item_embedding_layer = tf.keras.layers.Embedding(\n",
    "        num_items,\n",
    "        num_latent_factors,\n",
    "        name='ItemEmbedding')\n",
    "        \n",
    "\n",
    "    global_layers.append(item_embedding_layer)\n",
    "    \n",
    "    flat_item_vec = tf.keras.layers.Flatten(name='FlattenItems')(\n",
    "        item_embedding_layer(item_input))\n",
    "    \n",
    "    # Extract the user embedding.\n",
    "    user_embedding_layer = UserEmbedding(\n",
    "        num_latent_factors,\n",
    "        name='UserEmbedding')\n",
    "    \n",
    "    \n",
    "    local_layers.append(user_embedding_layer)\n",
    "    \n",
    "    # The item_input never gets used by the user embedding layer,\n",
    "    # but this allows the model to directly use the user embedding.\n",
    "    flat_user_vec = tf.keras.layers.Flatten()(user_embedding_layer(item_input))\n",
    "    \n",
    "    pred = tf.keras.layers.Dot(\n",
    "      1, normalize=False, name='Dot')([flat_user_vec, flat_item_vec])\n",
    " \n",
    "    input_spec = collections.OrderedDict(\n",
    "        x=tf.TensorSpec(shape=[None, 1], dtype=tf.int64),\n",
    "        y=tf.TensorSpec(shape=[None, 1], dtype=tf.float32))\n",
    "\n",
    "    model = tf.keras.Model(inputs=item_input, outputs=pred)\n",
    "\n",
    "    return tff.learning.models.ReconstructionModel.from_keras_model_and_layers(\n",
    "      keras_model=model,\n",
    "      global_layers=global_layers,\n",
    "      local_layers=local_layers,\n",
    "      input_spec=input_spec)\n",
    "\n",
    "\n",
    "\n",
    "\n"
   ]
  },
  {
   "cell_type": "code",
   "execution_count": 14,
   "metadata": {},
   "outputs": [],
   "source": [
    "# This will be used to produce our training process.\n",
    "# User and item embeddings will be 50-dimensional.\n",
    "import functools \n",
    "\n",
    "model_fn = functools.partial(\n",
    "    get_matrix_factorization_model,\n",
    "    num_items=n_books,\n",
    "    num_latent_factors=50)\n"
   ]
  },
  {
   "cell_type": "code",
   "execution_count": 15,
   "metadata": {},
   "outputs": [],
   "source": [
    "class RatingAccuracy(tf.keras.metrics.Mean):\n",
    "\n",
    "\n",
    "  def __init__(self,\n",
    "               name: str = 'rating_accuracy',\n",
    "               **kwargs):\n",
    "    super().__init__(name=name, **kwargs)\n",
    "\n",
    "  def update_state(self,\n",
    "                   y_true: tf.Tensor,\n",
    "                   y_pred: tf.Tensor,\n",
    "                   sample_weight: Optional[tf.Tensor] = None):\n",
    "    absolute_diffs = tf.abs(y_true - y_pred)\n",
    "    # A [batch_size, 1] tf.bool tensor indicating correctness within the\n",
    "    # threshold for each example in a batch. A 0.5 threshold corresponds\n",
    "    # to correctness when predictions are rounded to the nearest whole\n",
    "    # number.\n",
    "    example_accuracies = tf.less_equal(absolute_diffs, 0.5)\n",
    "    super().update_state(example_accuracies, sample_weight=sample_weight)\n",
    "\n",
    "\n",
    "loss_fn = lambda: tf.keras.losses.MeanSquaredError()\n",
    "#metrics_fn = lambda: [RatingAccuracy()]\n",
    "\n",
    "metrics_fn = lambda: [RatingAccuracy(),tfr.keras.metrics.NDCGMetric(name='ndcg_10',topn=10),tfr.keras.metrics.HitsMetric(name='hr_10', topn=10) ]\n"
   ]
  },
  {
   "cell_type": "code",
   "execution_count": 16,
   "metadata": {},
   "outputs": [],
   "source": [
    "#metrics_fn = lambda: [RatingAccuracy()]\n",
    "\n",
    "# We'll use this by doing:\n",
    "# state = training_process.initialize()\n",
    "# state, metrics = training_process.next(state, federated_train_data)\n",
    "training_process = tff.learning.algorithms.build_fed_recon(\n",
    "    model_fn=model_fn,\n",
    "    loss_fn=loss_fn,\n",
    "    metrics_fn=metrics_fn,\n",
    "    server_optimizer_fn=lambda: tf.keras.optimizers.SGD(1.0),\n",
    "    client_optimizer_fn=lambda: tf.keras.optimizers.SGD(0.5),\n",
    "    reconstruction_optimizer_fn=lambda: tf.keras.optimizers.SGD(0.1))\n",
    "\n"
   ]
  },
  {
   "cell_type": "code",
   "execution_count": 17,
   "metadata": {},
   "outputs": [],
   "source": [
    "evaluation_process = tff.learning.algorithms.build_fed_recon_eval(\n",
    "    model_fn,\n",
    "    loss_fn=loss_fn,\n",
    "    metrics_fn=metrics_fn,\n",
    "    reconstruction_optimizer_fn=functools.partial(\n",
    "            tf.keras.optimizers.SGD, 0.1))\n"
   ]
  },
  {
   "cell_type": "code",
   "execution_count": 18,
   "metadata": {},
   "outputs": [
    {
     "name": "stderr",
     "output_type": "stream",
     "text": [
      "2024-02-09 16:52:21.367289: I tensorflow/core/grappler/devices.cc:66] Number of eligible GPUs (core count >= 8, compute capability >= 0.0): 0\n",
      "2024-02-09 16:52:21.367688: I tensorflow/core/grappler/clusters/single_machine.cc:361] Starting new session\n",
      "2024-02-09 16:52:21.423692: I tensorflow/core/grappler/devices.cc:66] Number of eligible GPUs (core count >= 8, compute capability >= 0.0): 0\n",
      "2024-02-09 16:52:21.423946: I tensorflow/core/grappler/clusters/single_machine.cc:361] Starting new session\n",
      "2024-02-09 16:52:23.631112: E external/org_tensorflow/tensorflow/core/framework/node_def_util.cc:676] NodeDef mentions attribute debug_name which is not in the op definition: Op<name=VarHandleOp; signature= -> resource:resource; attr=container:string,default=\"\"; attr=shared_name:string,default=\"\"; attr=dtype:type; attr=shape:shape; attr=allowed_devices:list(string),default=[]; is_stateful=true> This may be expected if your graph generating binary is newer  than this binary. Unknown attributes will be ignored. NodeDef: {{node UserEmbedding/UserEmbeddingKernel}}\n",
      "2024-02-09 16:52:23.731111: I tensorflow/core/grappler/devices.cc:66] Number of eligible GPUs (core count >= 8, compute capability >= 0.0): 0\n",
      "2024-02-09 16:52:23.731484: I tensorflow/core/grappler/clusters/single_machine.cc:361] Starting new session\n"
     ]
    },
    {
     "name": "stdout",
     "output_type": "stream",
     "text": [
      "ModelWeights(trainable=[array([[-0.03178819,  0.02917478,  0.01359543, ...,  0.00345729,\n",
      "         0.00098564, -0.0097919 ],\n",
      "       [ 0.02994862, -0.03001793, -0.02730309, ...,  0.03650763,\n",
      "        -0.01828467, -0.03298517],\n",
      "       [ 0.02975413, -0.00812041,  0.02573751, ...,  0.04716365,\n",
      "        -0.03469024,  0.04589799],\n",
      "       ...,\n",
      "       [-0.02252973, -0.00997091, -0.01616838, ..., -0.00419636,\n",
      "         0.01708497, -0.0010734 ],\n",
      "       [ 0.01075046, -0.01353018, -0.02363389, ...,  0.01801014,\n",
      "         0.04018028,  0.04380692],\n",
      "       [ 0.0247546 ,  0.0358024 , -0.00807155, ...,  0.04055793,\n",
      "        -0.03722791, -0.00434743]], dtype=float32)], non_trainable=[])\n",
      "Item variables shape: (13784, 50)\n"
     ]
    }
   ],
   "source": [
    "state = training_process.initialize()\n",
    "model = training_process.get_model_weights(state)\n",
    "print(model)\n",
    "print('Item variables shape:', model.trainable[0].shape)\n"
   ]
  },
  {
   "cell_type": "code",
   "execution_count": 19,
   "metadata": {},
   "outputs": [
    {
     "name": "stderr",
     "output_type": "stream",
     "text": [
      "2024-02-09 16:52:25.439974: I tensorflow/core/grappler/devices.cc:66] Number of eligible GPUs (core count >= 8, compute capability >= 0.0): 0\n",
      "2024-02-09 16:52:25.440256: I tensorflow/core/grappler/clusters/single_machine.cc:361] Starting new session\n",
      "2024-02-09 16:52:25.479048: I tensorflow/core/grappler/devices.cc:66] Number of eligible GPUs (core count >= 8, compute capability >= 0.0): 0\n",
      "2024-02-09 16:52:25.479361: I tensorflow/core/grappler/clusters/single_machine.cc:361] Starting new session\n",
      "2024-02-09 16:52:25.770316: I tensorflow/core/grappler/devices.cc:66] Number of eligible GPUs (core count >= 8, compute capability >= 0.0): 0\n",
      "2024-02-09 16:52:25.770598: I tensorflow/core/grappler/clusters/single_machine.cc:361] Starting new session\n",
      "2024-02-09 16:52:27.094486: I tensorflow/core/grappler/devices.cc:66] Number of eligible GPUs (core count >= 8, compute capability >= 0.0): 0\n",
      "2024-02-09 16:52:27.094724: I tensorflow/core/grappler/clusters/single_machine.cc:361] Starting new session\n",
      "2024-02-09 16:52:27.537749: I tensorflow/core/grappler/devices.cc:66] Number of eligible GPUs (core count >= 8, compute capability >= 0.0): 0\n",
      "2024-02-09 16:52:27.538032: I tensorflow/core/grappler/clusters/single_machine.cc:361] Starting new session\n",
      "2024-02-09 16:52:27.569641: I tensorflow/core/grappler/devices.cc:66] Number of eligible GPUs (core count >= 8, compute capability >= 0.0): 0\n",
      "2024-02-09 16:52:27.569880: I tensorflow/core/grappler/clusters/single_machine.cc:361] Starting new session\n",
      "2024-02-09 16:52:27.605519: I tensorflow/core/grappler/devices.cc:66] Number of eligible GPUs (core count >= 8, compute capability >= 0.0): 0\n",
      "2024-02-09 16:52:27.605746: I tensorflow/core/grappler/clusters/single_machine.cc:361] Starting new session\n",
      "2024-02-09 16:52:27.642853: I tensorflow/core/grappler/devices.cc:66] Number of eligible GPUs (core count >= 8, compute capability >= 0.0): 0\n",
      "2024-02-09 16:52:27.643112: I tensorflow/core/grappler/clusters/single_machine.cc:361] Starting new session\n",
      "2024-02-09 16:52:27.693888: I tensorflow/core/grappler/devices.cc:66] Number of eligible GPUs (core count >= 8, compute capability >= 0.0): 0\n",
      "2024-02-09 16:52:27.694155: I tensorflow/core/grappler/clusters/single_machine.cc:361] Starting new session\n",
      "2024-02-09 16:52:27.783800: I tensorflow/core/grappler/devices.cc:66] Number of eligible GPUs (core count >= 8, compute capability >= 0.0): 0\n",
      "2024-02-09 16:52:27.784057: I tensorflow/core/grappler/clusters/single_machine.cc:361] Starting new session\n",
      "2024-02-09 16:52:28.665169: E external/org_tensorflow/tensorflow/core/framework/node_def_util.cc:676] NodeDef mentions attribute debug_name which is not in the op definition: Op<name=VarHandleOp; signature= -> resource:resource; attr=container:string,default=\"\"; attr=shared_name:string,default=\"\"; attr=dtype:type; attr=shape:shape; attr=allowed_devices:list(string),default=[]; is_stateful=true> This may be expected if your graph generating binary is newer  than this binary. Unknown attributes will be ignored. NodeDef: {{node total_3}}\n"
     ]
    },
    {
     "name": "stdout",
     "output_type": "stream",
     "text": [
      "Initial Eval: OrderedDict([('current_round_metrics', OrderedDict([('rating_accuracy', 0.6645147), ('ndcg_10', 0.3354853), ('hr_10', 0.3354853), ('loss', 21.886587)])), ('total_rounds_metrics', OrderedDict([('rating_accuracy', 0.6645147), ('ndcg_10', 0.3354853), ('hr_10', 0.3354853), ('loss', 21.886587)]))])\n"
     ]
    },
    {
     "name": "stderr",
     "output_type": "stream",
     "text": [
      "2024-02-09 16:52:44.346303: E external/org_tensorflow/tensorflow/core/framework/node_def_util.cc:676] NodeDef mentions attribute debug_name which is not in the op definition: Op<name=VarHandleOp; signature= -> resource:resource; attr=container:string,default=\"\"; attr=shared_name:string,default=\"\"; attr=dtype:type; attr=shape:shape; attr=allowed_devices:list(string),default=[]; is_stateful=true> This may be expected if your graph generating binary is newer  than this binary. Unknown attributes will be ignored. NodeDef: {{node total_3}}\n"
     ]
    }
   ],
   "source": [
    "\n",
    "eval_state = evaluation_process.initialize()\n",
    "eval_state = evaluation_process.set_model_weights(\n",
    "  eval_state, training_process.get_model_weights(state)\n",
    ")\n",
    "_, eval_metrics = evaluation_process.next(eval_state, tf_val_datasets)\n",
    "print('Initial Eval:', eval_metrics['client_work']['eval'])\n"
   ]
  },
  {
   "cell_type": "code",
   "execution_count": 20,
   "metadata": {},
   "outputs": [
    {
     "name": "stderr",
     "output_type": "stream",
     "text": [
      "2024-02-09 16:52:54.512376: I tensorflow/core/grappler/devices.cc:66] Number of eligible GPUs (core count >= 8, compute capability >= 0.0): 0\n",
      "2024-02-09 16:52:54.512660: I tensorflow/core/grappler/clusters/single_machine.cc:361] Starting new session\n",
      "2024-02-09 16:52:55.053237: I tensorflow/core/grappler/devices.cc:66] Number of eligible GPUs (core count >= 8, compute capability >= 0.0): 0\n",
      "2024-02-09 16:52:55.053508: I tensorflow/core/grappler/clusters/single_machine.cc:361] Starting new session\n",
      "2024-02-09 16:52:55.082962: I tensorflow/core/grappler/devices.cc:66] Number of eligible GPUs (core count >= 8, compute capability >= 0.0): 0\n",
      "2024-02-09 16:52:55.083158: I tensorflow/core/grappler/clusters/single_machine.cc:361] Starting new session\n",
      "2024-02-09 16:52:55.119042: I tensorflow/core/grappler/devices.cc:66] Number of eligible GPUs (core count >= 8, compute capability >= 0.0): 0\n",
      "2024-02-09 16:52:55.119275: I tensorflow/core/grappler/clusters/single_machine.cc:361] Starting new session\n",
      "2024-02-09 16:52:55.166629: I tensorflow/core/grappler/devices.cc:66] Number of eligible GPUs (core count >= 8, compute capability >= 0.0): 0\n",
      "2024-02-09 16:52:55.166859: I tensorflow/core/grappler/clusters/single_machine.cc:361] Starting new session\n",
      "2024-02-09 16:52:55.236632: I tensorflow/core/grappler/devices.cc:66] Number of eligible GPUs (core count >= 8, compute capability >= 0.0): 0\n",
      "2024-02-09 16:52:55.236870: I tensorflow/core/grappler/clusters/single_machine.cc:361] Starting new session\n",
      "2024-02-09 16:52:55.257147: I tensorflow/core/grappler/devices.cc:66] Number of eligible GPUs (core count >= 8, compute capability >= 0.0): 0\n",
      "2024-02-09 16:52:55.257383: I tensorflow/core/grappler/clusters/single_machine.cc:361] Starting new session\n",
      "2024-02-09 16:52:55.267837: I tensorflow/core/grappler/devices.cc:66] Number of eligible GPUs (core count >= 8, compute capability >= 0.0): 0\n",
      "2024-02-09 16:52:55.268008: I tensorflow/core/grappler/clusters/single_machine.cc:361] Starting new session\n",
      "2024-02-09 16:52:55.290846: I tensorflow/core/grappler/devices.cc:66] Number of eligible GPUs (core count >= 8, compute capability >= 0.0): 0\n",
      "2024-02-09 16:52:55.291070: I tensorflow/core/grappler/clusters/single_machine.cc:361] Starting new session\n",
      "2024-02-09 16:52:55.316656: I tensorflow/core/grappler/devices.cc:66] Number of eligible GPUs (core count >= 8, compute capability >= 0.0): 0\n",
      "2024-02-09 16:52:55.316920: I tensorflow/core/grappler/clusters/single_machine.cc:361] Starting new session\n",
      "2024-02-09 16:52:55.327288: I tensorflow/core/grappler/devices.cc:66] Number of eligible GPUs (core count >= 8, compute capability >= 0.0): 0\n",
      "2024-02-09 16:52:55.327686: I tensorflow/core/grappler/clusters/single_machine.cc:361] Starting new session\n",
      "2024-02-09 16:52:55.350208: I tensorflow/core/grappler/devices.cc:66] Number of eligible GPUs (core count >= 8, compute capability >= 0.0): 0\n",
      "2024-02-09 16:52:55.350539: I tensorflow/core/grappler/clusters/single_machine.cc:361] Starting new session\n",
      "2024-02-09 16:52:55.371206: I tensorflow/core/grappler/devices.cc:66] Number of eligible GPUs (core count >= 8, compute capability >= 0.0): 0\n",
      "2024-02-09 16:52:55.371486: I tensorflow/core/grappler/clusters/single_machine.cc:361] Starting new session\n",
      "2024-02-09 16:52:55.428996: I tensorflow/core/grappler/devices.cc:66] Number of eligible GPUs (core count >= 8, compute capability >= 0.0): 0\n",
      "2024-02-09 16:52:55.429226: I tensorflow/core/grappler/clusters/single_machine.cc:361] Starting new session\n",
      "2024-02-09 16:52:55.865207: E external/org_tensorflow/tensorflow/core/framework/node_def_util.cc:676] NodeDef mentions attribute debug_name which is not in the op definition: Op<name=VarHandleOp; signature= -> resource:resource; attr=container:string,default=\"\"; attr=shared_name:string,default=\"\"; attr=dtype:type; attr=shape:shape; attr=allowed_devices:list(string),default=[]; is_stateful=true> This may be expected if your graph generating binary is newer  than this binary. Unknown attributes will be ignored. NodeDef: {{node total_3}}\n"
     ]
    },
    {
     "name": "stdout",
     "output_type": "stream",
     "text": [
      "Train round 0: OrderedDict([('rating_accuracy', 0.76), ('ndcg_10', 0.24), ('hr_10', 0.24), ('loss', 13.80206)])\n",
      "Train round 1: OrderedDict([('rating_accuracy', 0.6181818), ('ndcg_10', 0.38181818), ('hr_10', 0.38181818), ('loss', 25.123684)])\n",
      "Train round 2: OrderedDict([('rating_accuracy', 0.56565654), ('ndcg_10', 0.43434343), ('hr_10', 0.43434343), ('loss', 26.739109)])\n",
      "Train round 3: OrderedDict([('rating_accuracy', 0.49377593), ('ndcg_10', 0.5062241), ('hr_10', 0.5062241), ('loss', 23.48204)])\n",
      "Train round 4: OrderedDict([('rating_accuracy', 0.519084), ('ndcg_10', 0.48091602), ('hr_10', 0.48091602), ('loss', 35.76567)])\n",
      "Train round 5: OrderedDict([('rating_accuracy', 0.75330395), ('ndcg_10', 0.24669604), ('hr_10', 0.24669604), ('loss', 17.401373)])\n",
      "Train round 6: OrderedDict([('rating_accuracy', 0.44954127), ('ndcg_10', 0.5504587), ('hr_10', 0.5504587), ('loss', 43.36043)])\n",
      "Train round 7: OrderedDict([('rating_accuracy', 0.76111114), ('ndcg_10', 0.23888889), ('hr_10', 0.23888889), ('loss', 14.922232)])\n",
      "Train round 8: OrderedDict([('rating_accuracy', 0.5726496), ('ndcg_10', 0.42735043), ('hr_10', 0.42735043), ('loss', 32.0051)])\n",
      "Train round 9: OrderedDict([('rating_accuracy', 0.60732985), ('ndcg_10', 0.37696335), ('hr_10', 0.37696335), ('loss', 29.797735)])\n",
      "Train round 10: OrderedDict([('rating_accuracy', 0.62711865), ('ndcg_10', 0.3559322), ('hr_10', 0.3559322), ('loss', 23.127455)])\n",
      "Train round 11: OrderedDict([('rating_accuracy', 0.5772727), ('ndcg_10', 0.4181818), ('hr_10', 0.4181818), ('loss', 28.531733)])\n",
      "Train round 12: OrderedDict([('rating_accuracy', 0.75), ('ndcg_10', 0.19680852), ('hr_10', 0.19680852), ('loss', 12.796301)])\n",
      "Train round 13: OrderedDict([('rating_accuracy', 0.63265306), ('ndcg_10', 0.3469388), ('hr_10', 0.3469388), ('loss', 21.897892)])\n",
      "Train round 14: OrderedDict([('rating_accuracy', 0.75206614), ('ndcg_10', 0.24793388), ('hr_10', 0.24793388), ('loss', 13.787333)])\n",
      "Train round 15: OrderedDict([('rating_accuracy', 0.65957445), ('ndcg_10', 0.3106383), ('hr_10', 0.3106383), ('loss', 18.494337)])\n",
      "Train round 16: OrderedDict([('rating_accuracy', 0.21518987), ('ndcg_10', 0.7468355), ('hr_10', 0.7468355), ('loss', 40.863487)])\n",
      "Train round 17: OrderedDict([('rating_accuracy', 0.7202797), ('ndcg_10', 0.23426573), ('hr_10', 0.23426573), ('loss', 13.47472)])\n",
      "Train round 18: OrderedDict([('rating_accuracy', 0.3548387), ('ndcg_10', 0.6451613), ('hr_10', 0.6451613), ('loss', 37.446163)])\n",
      "Train round 19: OrderedDict([('rating_accuracy', 0.44), ('ndcg_10', 0.46666667), ('hr_10', 0.46666667), ('loss', 29.55817)])\n",
      "Train round 20: OrderedDict([('rating_accuracy', 0.59130436), ('ndcg_10', 0.3478261), ('hr_10', 0.3478261), ('loss', 18.73244)])\n",
      "Train round 21: OrderedDict([('rating_accuracy', 0.6666667), ('ndcg_10', 0.20833333), ('hr_10', 0.20833333), ('loss', 3.9615276)])\n",
      "Train round 22: OrderedDict([('rating_accuracy', 0.5102041), ('ndcg_10', 0.39795917), ('hr_10', 0.39795917), ('loss', 21.009655)])\n",
      "Train round 23: OrderedDict([('rating_accuracy', 0.53386456), ('ndcg_10', 0.40239045), ('hr_10', 0.40239045), ('loss', 25.51482)])\n",
      "Train round 24: OrderedDict([('rating_accuracy', 0.5824176), ('ndcg_10', 0.35164836), ('hr_10', 0.35164836), ('loss', 17.250061)])\n",
      "Final Eval: OrderedDict([('current_round_metrics', OrderedDict([('rating_accuracy', 0.6202137), ('ndcg_10', 0.3354853), ('hr_10', 0.3354853), ('loss', 20.838558)])), ('total_rounds_metrics', OrderedDict([('rating_accuracy', 0.6202137), ('ndcg_10', 0.3354853), ('hr_10', 0.3354853), ('loss', 20.838558)]))])\n"
     ]
    }
   ],
   "source": [
    "NUM_ROUNDS = 25\n",
    "\n",
    "train_losses = []\n",
    "train_accs = []\n",
    "\n",
    "state = training_process.initialize()\n",
    "\n",
    "for i in range(NUM_ROUNDS):\n",
    "  federated_train_data = np.random.choice(tf_train_datasets, size=3).tolist()\n",
    "  state, metrics = training_process.next(state, federated_train_data)\n",
    "  print(f'Train round {i}:', metrics['client_work']['train'])\n",
    "  train_losses.append(metrics['client_work']['train']['loss'])\n",
    "  train_accs.append(metrics['client_work']['train']['ndcg_10'])\n",
    "\n",
    "\n",
    "eval_state = evaluation_process.set_model_weights(\n",
    "  eval_state, training_process.get_model_weights(state))\n",
    "_, eval_metrics = evaluation_process.next(eval_state, tf_val_datasets)\n",
    "print('Final Eval:', eval_metrics['client_work']['eval'])\n"
   ]
  },
  {
   "cell_type": "code",
   "execution_count": 21,
   "metadata": {},
   "outputs": [
    {
     "name": "stdout",
     "output_type": "stream",
     "text": [
      "Final Test: OrderedDict([('current_round_metrics', OrderedDict([('rating_accuracy', 0.6326312), ('ndcg_10', 0.319095), ('hr_10', 0.319095), ('loss', 20.56019)])), ('total_rounds_metrics', OrderedDict([('rating_accuracy', 0.6326312), ('ndcg_10', 0.319095), ('hr_10', 0.319095), ('loss', 20.56019)]))])\n"
     ]
    }
   ],
   "source": [
    "eval_state = evaluation_process.set_model_weights(\n",
    "    eval_state, training_process.get_model_weights(state)\n",
    ")\n",
    "_, eval_metrics = evaluation_process.next(eval_state, tf_test_datasets)\n",
    "print('Final Test:', eval_metrics['client_work']['eval'])\n"
   ]
  },
  {
   "cell_type": "code",
   "execution_count": 22,
   "metadata": {},
   "outputs": [
    {
     "data": {
      "image/png": "[encoded data removed]",
      "text/plain": [
       "<Figure size 640x480 with 1 Axes>"
      ]
     },
     "metadata": {},
     "output_type": "display_data"
    }
   ],
   "source": [
    "plt.plot(range(NUM_ROUNDS), train_losses)\n",
    "plt.ylabel('Train Loss')\n",
    "plt.xlabel('Round')\n",
    "plt.title('Train Loss')\n",
    "plt.show()\n",
    "\n"
   ]
  }
 ],
 "metadata": {
  "kernelspec": {
   "display_name": "Python 3",
   "language": "python",
   "name": "python3"
  },
  "language_info": {
   "codemirror_mode": {
    "name": "ipython",
    "version": 3
   },
   "file_extension": ".py",
   "mimetype": "text/x-python",
   "name": "python",
   "nbconvert_exporter": "python",
   "pygments_lexer": "ipython3",
   "version": "3.10.12"
  }
 },
 "nbformat": 4,
 "nbformat_minor": 2
}
