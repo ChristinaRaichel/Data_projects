{
 "cells": [
  {
   "cell_type": "code",
   "execution_count": 1,
   "metadata": {},
   "outputs": [],
   "source": [
    "import pandas as pd\n",
    "import numpy as np\n",
    "import pickle"
   ]
  },
  {
   "cell_type": "code",
   "execution_count": 2,
   "metadata": {},
   "outputs": [],
   "source": [
    "data = pickle.load(open('reduced_data_np','rb'))\n"
   ]
  },
  {
   "cell_type": "code",
   "execution_count": 3,
   "metadata": {},
   "outputs": [],
   "source": [
    "train_split = int(len(data)*0.75*0.9)\n",
    "val_split = int(len(data)*0.75)\n",
    "\n",
    "# 25% of data is test data, out of the training date 10% is selected as validation data\n",
    "train_data = data[:train_split]\n",
    "validation_data = data[train_split:val_split]\n",
    "test_data = data[val_split:]"
   ]
  },
  {
   "cell_type": "code",
   "execution_count": 4,
   "metadata": {},
   "outputs": [
    {
     "data": {
      "text/plain": [
       "((33018, 3), (3669, 3), (12230, 3))"
      ]
     },
     "execution_count": 4,
     "metadata": {},
     "output_type": "execute_result"
    }
   ],
   "source": [
    "train_data.shape,validation_data.shape,test_data.shape"
   ]
  },
  {
   "cell_type": "code",
   "execution_count": 5,
   "metadata": {},
   "outputs": [],
   "source": [
    "with open('data/bookcrossing/bookcrossing_train.csv', 'wb') as f:\n",
    "    np.savetxt(f, train_data,fmt='%s',delimiter=',')\n",
    "with open('data/bookcrossing/bookcrossing_val.csv', 'wb') as f:\n",
    "    np.savetxt(f, validation_data,fmt='%s',delimiter=',')\n",
    "with open('data/bookcrossing/bookcrossing_test.csv', 'wb') as f:\n",
    "    np.savetxt(f, test_data,fmt='%s',delimiter=',')"
   ]
  }
 ],
 "metadata": {
  "kernelspec": {
   "display_name": "Python 3",
   "language": "python",
   "name": "python3"
  },
  "language_info": {
   "codemirror_mode": {
    "name": "ipython",
    "version": 3
   },
   "file_extension": ".py",
   "mimetype": "text/x-python",
   "name": "python",
   "nbconvert_exporter": "python",
   "pygments_lexer": "ipython3",
   "version": "3.10.12"
  }
 },
 "nbformat": 4,
 "nbformat_minor": 2
}
