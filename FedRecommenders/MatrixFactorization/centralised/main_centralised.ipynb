{
 "cells": [
  {
   "cell_type": "code",
   "execution_count": 32,
   "metadata": {},
   "outputs": [],
   "source": [
    "\n",
    "import numpy as np\n",
    "import pickle\n",
    "import pandas as pd\n",
    "from Metrics import  Metrics\n",
    "from math import sqrt\n",
    "from Configs import  Configs\n",
    "import torch\n",
    "import matplotlib.pyplot as plt"
   ]
  },
  {
   "cell_type": "code",
   "execution_count": 2,
   "metadata": {},
   "outputs": [],
   "source": [
    "data = pickle.load(open('reduced_data_np','rb'))"
   ]
  },
  {
   "cell_type": "code",
   "execution_count": 3,
   "metadata": {},
   "outputs": [
    {
     "data": {
      "text/plain": [
       "(2120, 383)"
      ]
     },
     "execution_count": 3,
     "metadata": {},
     "output_type": "execute_result"
    }
   ],
   "source": [
    "\n",
    "num_users = np.max(data[:,0])+1\n",
    "num_books = np.max(data[:,1])+1\n",
    "\n",
    "R = np.empty((num_users,num_books))\n",
    "R.fill(np.nan)\n",
    "\n",
    "for row in data:\n",
    "    R[row[0]][row[1]] = row[2]\n",
    "\n",
    "R.shape"
   ]
  },
  {
   "cell_type": "code",
   "execution_count": 4,
   "metadata": {},
   "outputs": [],
   "source": [
    "\n",
    "def make_train_and_val_splits(R, num_rows, num_cols, train_frac):\n",
    "    z_full = np.empty((num_rows, num_cols))\n",
    "    R_train, R_val = z_full, z_full\n",
    "    R_train.fill(np.nan)\n",
    "    R_val.fill(np.nan)\n",
    "    did_train, did_val = False, False\n",
    "    for row in range(num_rows):\n",
    "        for col in range(num_cols):\n",
    "            if np.random.random() < train_frac:\n",
    "                R_train[row, col] = R[row, col]\n",
    "                did_train = True\n",
    "            else:\n",
    "                R_val[row, col] = R[row, col]\n",
    "                did_val = True\n",
    "    assert did_train and did_val\n",
    "    return R_train, R_val\n"
   ]
  },
  {
   "cell_type": "code",
   "execution_count": 5,
   "metadata": {},
   "outputs": [],
   "source": [
    "R_train, R_val = make_train_and_val_splits(R,num_users,num_books,train_frac=.75)"
   ]
  },
  {
   "cell_type": "code",
   "execution_count": 6,
   "metadata": {},
   "outputs": [],
   "source": [
    "class MatrixFactorizationLinearModel(torch.nn.Module):\n",
    "    def __init__(self):\n",
    "        super().__init__()\n",
    "        self.is_linear = True\n",
    "    \n",
    "    def forward(self):\n",
    "        raise NotImplementedError()\n",
    "    \n",
    "    def calculate_loss(self, R, R_hat):\n",
    "        raise NotImplementedError()\n",
    "    \n",
    "    def optimize(self, loss, R, R_hat, N):\n",
    "        raise NotImplementedError()\n",
    "    \n",
    "    @staticmethod\n",
    "    def mask_out_nans(R, R_hat):\n",
    "        lib = np if isinstance(R, np.ndarray) else torch\n",
    "        R_mask = lib.isnan(R)\n",
    "        R[R_mask] = R_hat[R_mask]\n",
    "        N = (R.shape[0] * R.shape[1]) - R_mask.sum()\n",
    "        return R, N\n"
   ]
  },
  {
   "cell_type": "code",
   "execution_count": 7,
   "metadata": {},
   "outputs": [],
   "source": [
    "class MatrixFactorizationCustomLinearModel(MatrixFactorizationLinearModel):\n",
    "    def __init__(self, num_users, num_books, K, lr):\n",
    "        super().__init__()\n",
    "        self.lr = lr\n",
    "        self.U = MatrixFactorizationCustomLinearModel.xavier_uniform_array((num_users, K))\n",
    "        self.V = MatrixFactorizationCustomLinearModel.xavier_uniform_array((num_books, K))\n",
    "    \n",
    "    @staticmethod\n",
    "    def xavier_uniform_array(arr_shape):\n",
    "        limit = sqrt(6. / sqrt(arr_shape[0] + arr_shape[1]))\n",
    "        weights = np.random.uniform(-limit, limit, size=arr_shape)\n",
    "        return weights\n",
    "    \n",
    "    def forward(self):\n",
    "        return self.U @ self.V.T\n",
    "        \n",
    "    @staticmethod\n",
    "    def _calc_mse(R, R_hat, N):\n",
    "        return np.square(R - R_hat).sum() / N\n",
    "    \n",
    "    def calculate_loss(self, R, R_hat):\n",
    "        # Mask out nans by setting to R_hat values\n",
    "        R, N = MatrixFactorizationLinearModel.mask_out_nans(R, R_hat)\n",
    "        # MSE and masked R\n",
    "        loss = MatrixFactorizationCustomLinearModel._calc_mse(R, R_hat, N)\n",
    "        return loss, loss, R, N\n",
    "    \n",
    "    @staticmethod\n",
    "    def _calc_mse_gradient(R, R_hat, M, N):\n",
    "        return (R - R_hat)@M * -2. / N\n",
    "    \n",
    "    def optimize(self, loss, R, R_hat, N):\n",
    "        # Calc gradient of MSE for each factor matrix ie parameter\n",
    "        # MSE grad\n",
    "        U_grad = MatrixFactorizationCustomLinearModel._calc_mse_gradient(R, R_hat, self.V, N)\n",
    "        V_grad = MatrixFactorizationCustomLinearModel._calc_mse_gradient(R.T, R_hat.T, self.U, N)\n",
    "        # Update U and V based on gradient and step size\n",
    "        self.U -= self.lr * U_grad\n",
    "        self.V -= self.lr * V_grad"
   ]
  },
  {
   "cell_type": "code",
   "execution_count": 58,
   "metadata": {},
   "outputs": [],
   "source": [
    "def train_linear_model(MF_model, R_train, R_val, num_epochs):\n",
    "    train_losses, val_losses = [], []\n",
    "    # Training\n",
    "    for curr_epoch in range(num_epochs):\n",
    "        # Train\n",
    "        # Reconstruct R_hat from latent factor matrices\n",
    "        R_hat = MF_model.forward()\n",
    "        # Calc MSE loss of this reconstruction\n",
    "        # And create a nan masked R_train for future use\n",
    "        train_loss, np_train_loss, R_train_masked, N = MF_model.calculate_loss(R_train.copy(), R_hat)\n",
    "        # Calc grad and update\n",
    "        MF_model.optimize(train_loss, R_train_masked, R_hat, N)\n",
    "        train_losses.append(np_train_loss)\n",
    "        \n",
    "        # Eval\n",
    "        val_loss, np_val_loss, _, _ = MF_model.calculate_loss(R_val.copy(), R_hat)\n",
    "        val_losses.append(np_val_loss)\n",
    "        #print(f'Epoch {curr_epoch+1} losses -> Train: {np_train_loss} - Val: {np_val_loss}')\n",
    "        \n",
    "    return R_hat,train_losses,val_losses\n"
   ]
  },
  {
   "cell_type": "code",
   "execution_count": 69,
   "metadata": {},
   "outputs": [
    {
     "data": {
      "image/png": "[encoded data removed]",
      "text/plain": [
       "<Figure size 640x480 with 2 Axes>"
      ]
     },
     "metadata": {},
     "output_type": "display_data"
    }
   ],
   "source": [
    "# Convergence rates:\n",
    "\n",
    "lr = [0.001,0.002,0.01,0.05,0.1,0.25]\n",
    "\n",
    "\n",
    "\n",
    "for i in lr:\n",
    "    model = MatrixFactorizationCustomLinearModel(num_users,num_books,K=64,lr=i)\n",
    "    R_hat,t_l,val_l = train_linear_model(model, R_train, R_val, num_epochs=10)\n",
    "    plt.subplot(1, 2, 1)\n",
    "    plt.xlabel('steps')\n",
    "    plt.ylabel('train_loss')\n",
    "    plt.plot(np.arange(10),t_l)\n",
    "    plt.subplot(1, 2, 2)\n",
    "    plt.xlabel('steps')\n",
    "    plt.ylabel('validation_loss')    \n",
    "    plt.plot(np.arange(10),val_l)\n",
    "plt.legend(lr)\n",
    "plt.show()\n"
   ]
  },
  {
   "cell_type": "code",
   "execution_count": 10,
   "metadata": {},
   "outputs": [],
   "source": [
    "val_pred_true_list = []\n",
    "\n",
    "import math\n",
    "\n",
    "for u in range(num_users):\n",
    "    for  v in range(num_books):\n",
    "        if not math.isnan(R_val[u][v]):   \n",
    "            val_pred_true_list.append((u,v,R_val[u][v],R_hat[u][v]))\n",
    "                        \n",
    "np_arr = np.asarray(val_pred_true_list,dtype=int)"
   ]
  },
  {
   "cell_type": "code",
   "execution_count": 25,
   "metadata": {},
   "outputs": [],
   "source": [
    "\n",
    "hr_10, ndcg_10 =0.0,0.0\n",
    "l=0\n",
    "\n",
    "for i in range(num_users):\n",
    "    l +=1\n",
    "    y_score= np_arr[np.where(np_arr[:,0]==i)][:,3]\n",
    "    y_true = np_arr[np.where(np_arr[:,0]==i)][:,2]\n",
    "\n",
    "    df = pd.DataFrame({'True':y_true})\n",
    "    df['pred']=y_score\n",
    "\n",
    "    configs = {'top_k': 10, 'num_negative_test': 49, }\n",
    "    metric = Metrics(configs)\n",
    "    hr = metric.get_hit_ratio(df)\n",
    "    ndcg = metric.get_ndcg(df)\n",
    "    hr_10 += hr[10]\n",
    "    ndcg_10 += ndcg[10]\n",
    "    \n",
    "\n",
    "hr_10 /= l\n",
    "ndcg_10 /= l"
   ]
  },
  {
   "cell_type": "code",
   "execution_count": 26,
   "metadata": {},
   "outputs": [
    {
     "data": {
      "text/plain": [
       "(0.9797169811320755, 0.8423928922751897)"
      ]
     },
     "execution_count": 26,
     "metadata": {},
     "output_type": "execute_result"
    }
   ],
   "source": [
    "hr_10,ndcg_10"
   ]
  },
  {
   "cell_type": "code",
   "execution_count": null,
   "metadata": {},
   "outputs": [],
   "source": []
  }
 ],
 "metadata": {
  "kernelspec": {
   "display_name": "Python 3",
   "language": "python",
   "name": "python3"
  },
  "language_info": {
   "codemirror_mode": {
    "name": "ipython",
    "version": 3
   },
   "file_extension": ".py",
   "mimetype": "text/x-python",
   "name": "python",
   "nbconvert_exporter": "python",
   "pygments_lexer": "ipython3",
   "version": "3.10.12"
  }
 },
 "nbformat": 4,
 "nbformat_minor": 2
}
