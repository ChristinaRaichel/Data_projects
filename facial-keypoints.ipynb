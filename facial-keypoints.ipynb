{
 "cells": [
  {
   "cell_type": "code",
   "execution_count": 1,
   "id": "79772110",
   "metadata": {
    "_cell_guid": "b1076dfc-b9ad-4769-8c92-a6c4dae69d19",
    "_uuid": "8f2839f25d086af736a60e9eeb907d3b93b6e0e5",
    "execution": {
     "iopub.execute_input": "2022-08-19T07:04:09.088809Z",
     "iopub.status.busy": "2022-08-19T07:04:09.087621Z",
     "iopub.status.idle": "2022-08-19T07:04:09.102044Z",
     "shell.execute_reply": "2022-08-19T07:04:09.100944Z"
    },
    "papermill": {
     "duration": 0.028909,
     "end_time": "2022-08-19T07:04:09.105454",
     "exception": false,
     "start_time": "2022-08-19T07:04:09.076545",
     "status": "completed"
    },
    "tags": []
   },
   "outputs": [
    {
     "name": "stdout",
     "output_type": "stream",
     "text": [
      "/kaggle/input/facial-keypoints-detection/training.zip\n",
      "/kaggle/input/facial-keypoints-detection/SampleSubmission.csv\n",
      "/kaggle/input/facial-keypoints-detection/IdLookupTable.csv\n",
      "/kaggle/input/facial-keypoints-detection/test.zip\n"
     ]
    }
   ],
   "source": [
    "# This Python 3 environment comes with many helpful analytics libraries installed\n",
    "# It is defined by the kaggle/python Docker image: https://github.com/kaggle/docker-python\n",
    "# For example, here's several helpful packages to load\n",
    "\n",
    "import numpy as np # linear algebra\n",
    "import pandas as pd # data processing, CSV file I/O (e.g. pd.read_csv)\n",
    "\n",
    "# Input data files are available in the read-only \"../input/\" directory\n",
    "# For example, running this (by clicking run or pressing Shift+Enter) will list all files under the input directory\n",
    "\n",
    "import os\n",
    "for dirname, _, filenames in os.walk('/kaggle/input'):\n",
    "    for filename in filenames:\n",
    "        print(os.path.join(dirname, filename))\n",
    "\n",
    "# You can write up to 20GB to the current directory (/kaggle/working/) that gets preserved as output when you create a version using \"Save & Run All\" \n",
    "# You can also write temporary files to /kaggle/temp/, but they won't be saved outside of the current session"
   ]
  },
  {
   "cell_type": "code",
   "execution_count": 2,
   "id": "794e78bb",
   "metadata": {
    "execution": {
     "iopub.execute_input": "2022-08-19T07:04:09.122236Z",
     "iopub.status.busy": "2022-08-19T07:04:09.121843Z",
     "iopub.status.idle": "2022-08-19T07:04:14.365070Z",
     "shell.execute_reply": "2022-08-19T07:04:14.364091Z"
    },
    "papermill": {
     "duration": 5.254304,
     "end_time": "2022-08-19T07:04:14.367543",
     "exception": false,
     "start_time": "2022-08-19T07:04:09.113239",
     "status": "completed"
    },
    "tags": []
   },
   "outputs": [],
   "source": [
    "#imports\n",
    "import matplotlib.pyplot as plt\n",
    "import keras"
   ]
  },
  {
   "cell_type": "code",
   "execution_count": null,
   "id": "a5c0cc11",
   "metadata": {
    "papermill": {
     "duration": 0.006803,
     "end_time": "2022-08-19T07:04:14.381721",
     "exception": false,
     "start_time": "2022-08-19T07:04:14.374918",
     "status": "completed"
    },
    "tags": []
   },
   "outputs": [],
   "source": []
  },
  {
   "cell_type": "code",
   "execution_count": 3,
   "id": "66d4bca4",
   "metadata": {
    "execution": {
     "iopub.execute_input": "2022-08-19T07:04:14.398166Z",
     "iopub.status.busy": "2022-08-19T07:04:14.396938Z",
     "iopub.status.idle": "2022-08-19T07:04:18.527218Z",
     "shell.execute_reply": "2022-08-19T07:04:18.526226Z"
    },
    "papermill": {
     "duration": 4.140987,
     "end_time": "2022-08-19T07:04:18.529793",
     "exception": false,
     "start_time": "2022-08-19T07:04:14.388806",
     "status": "completed"
    },
    "tags": []
   },
   "outputs": [],
   "source": [
    "train_df=pd.read_csv('/kaggle/input/facial-keypoints-detection/training.zip')"
   ]
  },
  {
   "cell_type": "code",
   "execution_count": 4,
   "id": "a576f521",
   "metadata": {
    "execution": {
     "iopub.execute_input": "2022-08-19T07:04:18.546589Z",
     "iopub.status.busy": "2022-08-19T07:04:18.545129Z",
     "iopub.status.idle": "2022-08-19T07:04:18.578555Z",
     "shell.execute_reply": "2022-08-19T07:04:18.577588Z"
    },
    "papermill": {
     "duration": 0.043445,
     "end_time": "2022-08-19T07:04:18.580579",
     "exception": false,
     "start_time": "2022-08-19T07:04:18.537134",
     "status": "completed"
    },
    "tags": []
   },
   "outputs": [
    {
     "data": {
      "text/html": [
       "<div>\n",
       "<style scoped>\n",
       "    .dataframe tbody tr th:only-of-type {\n",
       "        vertical-align: middle;\n",
       "    }\n",
       "\n",
       "    .dataframe tbody tr th {\n",
       "        vertical-align: top;\n",
       "    }\n",
       "\n",
       "    .dataframe thead th {\n",
       "        text-align: right;\n",
       "    }\n",
       "</style>\n",
       "<table border=\"1\" class=\"dataframe\">\n",
       "  <thead>\n",
       "    <tr style=\"text-align: right;\">\n",
       "      <th></th>\n",
       "      <th>left_eye_center_x</th>\n",
       "      <th>left_eye_center_y</th>\n",
       "      <th>right_eye_center_x</th>\n",
       "      <th>right_eye_center_y</th>\n",
       "      <th>left_eye_inner_corner_x</th>\n",
       "      <th>left_eye_inner_corner_y</th>\n",
       "      <th>left_eye_outer_corner_x</th>\n",
       "      <th>left_eye_outer_corner_y</th>\n",
       "      <th>right_eye_inner_corner_x</th>\n",
       "      <th>right_eye_inner_corner_y</th>\n",
       "      <th>...</th>\n",
       "      <th>nose_tip_y</th>\n",
       "      <th>mouth_left_corner_x</th>\n",
       "      <th>mouth_left_corner_y</th>\n",
       "      <th>mouth_right_corner_x</th>\n",
       "      <th>mouth_right_corner_y</th>\n",
       "      <th>mouth_center_top_lip_x</th>\n",
       "      <th>mouth_center_top_lip_y</th>\n",
       "      <th>mouth_center_bottom_lip_x</th>\n",
       "      <th>mouth_center_bottom_lip_y</th>\n",
       "      <th>Image</th>\n",
       "    </tr>\n",
       "  </thead>\n",
       "  <tbody>\n",
       "    <tr>\n",
       "      <th>0</th>\n",
       "      <td>66.033564</td>\n",
       "      <td>39.002274</td>\n",
       "      <td>30.227008</td>\n",
       "      <td>36.421678</td>\n",
       "      <td>59.582075</td>\n",
       "      <td>39.647423</td>\n",
       "      <td>73.130346</td>\n",
       "      <td>39.969997</td>\n",
       "      <td>36.356571</td>\n",
       "      <td>37.389402</td>\n",
       "      <td>...</td>\n",
       "      <td>57.066803</td>\n",
       "      <td>61.195308</td>\n",
       "      <td>79.970165</td>\n",
       "      <td>28.614496</td>\n",
       "      <td>77.388992</td>\n",
       "      <td>43.312602</td>\n",
       "      <td>72.935459</td>\n",
       "      <td>43.130707</td>\n",
       "      <td>84.485774</td>\n",
       "      <td>238 236 237 238 240 240 239 241 241 243 240 23...</td>\n",
       "    </tr>\n",
       "    <tr>\n",
       "      <th>1</th>\n",
       "      <td>64.332936</td>\n",
       "      <td>34.970077</td>\n",
       "      <td>29.949277</td>\n",
       "      <td>33.448715</td>\n",
       "      <td>58.856170</td>\n",
       "      <td>35.274349</td>\n",
       "      <td>70.722723</td>\n",
       "      <td>36.187166</td>\n",
       "      <td>36.034723</td>\n",
       "      <td>34.361532</td>\n",
       "      <td>...</td>\n",
       "      <td>55.660936</td>\n",
       "      <td>56.421447</td>\n",
       "      <td>76.352000</td>\n",
       "      <td>35.122383</td>\n",
       "      <td>76.047660</td>\n",
       "      <td>46.684596</td>\n",
       "      <td>70.266553</td>\n",
       "      <td>45.467915</td>\n",
       "      <td>85.480170</td>\n",
       "      <td>219 215 204 196 204 211 212 200 180 168 178 19...</td>\n",
       "    </tr>\n",
       "    <tr>\n",
       "      <th>2</th>\n",
       "      <td>65.057053</td>\n",
       "      <td>34.909642</td>\n",
       "      <td>30.903789</td>\n",
       "      <td>34.909642</td>\n",
       "      <td>59.412000</td>\n",
       "      <td>36.320968</td>\n",
       "      <td>70.984421</td>\n",
       "      <td>36.320968</td>\n",
       "      <td>37.678105</td>\n",
       "      <td>36.320968</td>\n",
       "      <td>...</td>\n",
       "      <td>53.538947</td>\n",
       "      <td>60.822947</td>\n",
       "      <td>73.014316</td>\n",
       "      <td>33.726316</td>\n",
       "      <td>72.732000</td>\n",
       "      <td>47.274947</td>\n",
       "      <td>70.191789</td>\n",
       "      <td>47.274947</td>\n",
       "      <td>78.659368</td>\n",
       "      <td>144 142 159 180 188 188 184 180 167 132 84 59 ...</td>\n",
       "    </tr>\n",
       "    <tr>\n",
       "      <th>3</th>\n",
       "      <td>65.225739</td>\n",
       "      <td>37.261774</td>\n",
       "      <td>32.023096</td>\n",
       "      <td>37.261774</td>\n",
       "      <td>60.003339</td>\n",
       "      <td>39.127179</td>\n",
       "      <td>72.314713</td>\n",
       "      <td>38.380967</td>\n",
       "      <td>37.618643</td>\n",
       "      <td>38.754115</td>\n",
       "      <td>...</td>\n",
       "      <td>54.166539</td>\n",
       "      <td>65.598887</td>\n",
       "      <td>72.703722</td>\n",
       "      <td>37.245496</td>\n",
       "      <td>74.195478</td>\n",
       "      <td>50.303165</td>\n",
       "      <td>70.091687</td>\n",
       "      <td>51.561183</td>\n",
       "      <td>78.268383</td>\n",
       "      <td>193 192 193 194 194 194 193 192 168 111 50 12 ...</td>\n",
       "    </tr>\n",
       "    <tr>\n",
       "      <th>4</th>\n",
       "      <td>66.725301</td>\n",
       "      <td>39.621261</td>\n",
       "      <td>32.244810</td>\n",
       "      <td>38.042032</td>\n",
       "      <td>58.565890</td>\n",
       "      <td>39.621261</td>\n",
       "      <td>72.515926</td>\n",
       "      <td>39.884466</td>\n",
       "      <td>36.982380</td>\n",
       "      <td>39.094852</td>\n",
       "      <td>...</td>\n",
       "      <td>64.889521</td>\n",
       "      <td>60.671411</td>\n",
       "      <td>77.523239</td>\n",
       "      <td>31.191755</td>\n",
       "      <td>76.997301</td>\n",
       "      <td>44.962748</td>\n",
       "      <td>73.707387</td>\n",
       "      <td>44.227141</td>\n",
       "      <td>86.871166</td>\n",
       "      <td>147 148 160 196 215 214 216 217 219 220 206 18...</td>\n",
       "    </tr>\n",
       "  </tbody>\n",
       "</table>\n",
       "<p>5 rows × 31 columns</p>\n",
       "</div>"
      ],
      "text/plain": [
       "   left_eye_center_x  left_eye_center_y  right_eye_center_x  \\\n",
       "0          66.033564          39.002274           30.227008   \n",
       "1          64.332936          34.970077           29.949277   \n",
       "2          65.057053          34.909642           30.903789   \n",
       "3          65.225739          37.261774           32.023096   \n",
       "4          66.725301          39.621261           32.244810   \n",
       "\n",
       "   right_eye_center_y  left_eye_inner_corner_x  left_eye_inner_corner_y  \\\n",
       "0           36.421678                59.582075                39.647423   \n",
       "1           33.448715                58.856170                35.274349   \n",
       "2           34.909642                59.412000                36.320968   \n",
       "3           37.261774                60.003339                39.127179   \n",
       "4           38.042032                58.565890                39.621261   \n",
       "\n",
       "   left_eye_outer_corner_x  left_eye_outer_corner_y  right_eye_inner_corner_x  \\\n",
       "0                73.130346                39.969997                 36.356571   \n",
       "1                70.722723                36.187166                 36.034723   \n",
       "2                70.984421                36.320968                 37.678105   \n",
       "3                72.314713                38.380967                 37.618643   \n",
       "4                72.515926                39.884466                 36.982380   \n",
       "\n",
       "   right_eye_inner_corner_y  ...  nose_tip_y  mouth_left_corner_x  \\\n",
       "0                 37.389402  ...   57.066803            61.195308   \n",
       "1                 34.361532  ...   55.660936            56.421447   \n",
       "2                 36.320968  ...   53.538947            60.822947   \n",
       "3                 38.754115  ...   54.166539            65.598887   \n",
       "4                 39.094852  ...   64.889521            60.671411   \n",
       "\n",
       "   mouth_left_corner_y  mouth_right_corner_x  mouth_right_corner_y  \\\n",
       "0            79.970165             28.614496             77.388992   \n",
       "1            76.352000             35.122383             76.047660   \n",
       "2            73.014316             33.726316             72.732000   \n",
       "3            72.703722             37.245496             74.195478   \n",
       "4            77.523239             31.191755             76.997301   \n",
       "\n",
       "   mouth_center_top_lip_x  mouth_center_top_lip_y  mouth_center_bottom_lip_x  \\\n",
       "0               43.312602               72.935459                  43.130707   \n",
       "1               46.684596               70.266553                  45.467915   \n",
       "2               47.274947               70.191789                  47.274947   \n",
       "3               50.303165               70.091687                  51.561183   \n",
       "4               44.962748               73.707387                  44.227141   \n",
       "\n",
       "   mouth_center_bottom_lip_y  \\\n",
       "0                  84.485774   \n",
       "1                  85.480170   \n",
       "2                  78.659368   \n",
       "3                  78.268383   \n",
       "4                  86.871166   \n",
       "\n",
       "                                               Image  \n",
       "0  238 236 237 238 240 240 239 241 241 243 240 23...  \n",
       "1  219 215 204 196 204 211 212 200 180 168 178 19...  \n",
       "2  144 142 159 180 188 188 184 180 167 132 84 59 ...  \n",
       "3  193 192 193 194 194 194 193 192 168 111 50 12 ...  \n",
       "4  147 148 160 196 215 214 216 217 219 220 206 18...  \n",
       "\n",
       "[5 rows x 31 columns]"
      ]
     },
     "execution_count": 4,
     "metadata": {},
     "output_type": "execute_result"
    }
   ],
   "source": [
    "train_df.head()"
   ]
  },
  {
   "cell_type": "code",
   "execution_count": 5,
   "id": "9827a652",
   "metadata": {
    "execution": {
     "iopub.execute_input": "2022-08-19T07:04:18.597845Z",
     "iopub.status.busy": "2022-08-19T07:04:18.596440Z",
     "iopub.status.idle": "2022-08-19T07:04:18.605374Z",
     "shell.execute_reply": "2022-08-19T07:04:18.604553Z"
    },
    "papermill": {
     "duration": 0.019029,
     "end_time": "2022-08-19T07:04:18.607365",
     "exception": false,
     "start_time": "2022-08-19T07:04:18.588336",
     "status": "completed"
    },
    "tags": []
   },
   "outputs": [],
   "source": [
    "#train_df.columns\n",
    "train_df.fillna(method='ffill',inplace=True)\n"
   ]
  },
  {
   "cell_type": "code",
   "execution_count": 6,
   "id": "221f857f",
   "metadata": {
    "execution": {
     "iopub.execute_input": "2022-08-19T07:04:18.623164Z",
     "iopub.status.busy": "2022-08-19T07:04:18.622601Z",
     "iopub.status.idle": "2022-08-19T07:04:18.628910Z",
     "shell.execute_reply": "2022-08-19T07:04:18.628012Z"
    },
    "papermill": {
     "duration": 0.016514,
     "end_time": "2022-08-19T07:04:18.631111",
     "exception": false,
     "start_time": "2022-08-19T07:04:18.614597",
     "status": "completed"
    },
    "tags": []
   },
   "outputs": [
    {
     "data": {
      "text/plain": [
       "Index(['left_eye_center_x', 'left_eye_center_y', 'right_eye_center_x',\n",
       "       'right_eye_center_y', 'left_eye_inner_corner_x',\n",
       "       'left_eye_inner_corner_y', 'left_eye_outer_corner_x',\n",
       "       'left_eye_outer_corner_y', 'right_eye_inner_corner_x',\n",
       "       'right_eye_inner_corner_y', 'right_eye_outer_corner_x',\n",
       "       'right_eye_outer_corner_y', 'left_eyebrow_inner_end_x',\n",
       "       'left_eyebrow_inner_end_y', 'left_eyebrow_outer_end_x',\n",
       "       'left_eyebrow_outer_end_y', 'right_eyebrow_inner_end_x',\n",
       "       'right_eyebrow_inner_end_y', 'right_eyebrow_outer_end_x',\n",
       "       'right_eyebrow_outer_end_y', 'nose_tip_x', 'nose_tip_y',\n",
       "       'mouth_left_corner_x', 'mouth_left_corner_y', 'mouth_right_corner_x',\n",
       "       'mouth_right_corner_y', 'mouth_center_top_lip_x',\n",
       "       'mouth_center_top_lip_y', 'mouth_center_bottom_lip_x',\n",
       "       'mouth_center_bottom_lip_y', 'Image'],\n",
       "      dtype='object')"
      ]
     },
     "execution_count": 6,
     "metadata": {},
     "output_type": "execute_result"
    }
   ],
   "source": [
    "train_df.columns"
   ]
  },
  {
   "cell_type": "code",
   "execution_count": 7,
   "id": "e9e25d2a",
   "metadata": {
    "execution": {
     "iopub.execute_input": "2022-08-19T07:04:18.648414Z",
     "iopub.status.busy": "2022-08-19T07:04:18.648155Z",
     "iopub.status.idle": "2022-08-19T07:04:34.884583Z",
     "shell.execute_reply": "2022-08-19T07:04:34.883503Z"
    },
    "papermill": {
     "duration": 16.247243,
     "end_time": "2022-08-19T07:04:34.886652",
     "exception": false,
     "start_time": "2022-08-19T07:04:18.639409",
     "status": "completed"
    },
    "tags": []
   },
   "outputs": [
    {
     "name": "stdout",
     "output_type": "stream",
     "text": [
      "(7049, 96, 96, 1)\n"
     ]
    }
   ],
   "source": [
    "image_df=train_df['Image']\n",
    "imageArr=[]\n",
    "for i in image_df:\n",
    "     img = i.split()\n",
    "     img = ['0' if x == '' else x for x in img]\n",
    "     imageArr.append(img)\n",
    "x_train = np.array(imageArr,dtype='float')\n",
    "x_train = x_train.reshape(-1,96,96,1)\n",
    "print(x_train.shape)"
   ]
  },
  {
   "cell_type": "code",
   "execution_count": 8,
   "id": "c061c29a",
   "metadata": {
    "execution": {
     "iopub.execute_input": "2022-08-19T07:04:34.903912Z",
     "iopub.status.busy": "2022-08-19T07:04:34.902998Z",
     "iopub.status.idle": "2022-08-19T07:04:34.913676Z",
     "shell.execute_reply": "2022-08-19T07:04:34.912472Z"
    },
    "papermill": {
     "duration": 0.021855,
     "end_time": "2022-08-19T07:04:34.916303",
     "exception": false,
     "start_time": "2022-08-19T07:04:34.894448",
     "status": "completed"
    },
    "tags": []
   },
   "outputs": [
    {
     "name": "stdout",
     "output_type": "stream",
     "text": [
      "(7049, 30)\n"
     ]
    }
   ],
   "source": [
    "keypoints=train_df.drop('Image',axis=1)\n",
    "y_train=np.array(keypoints,dtype='float')\n",
    "print(y_train.shape)\n"
   ]
  },
  {
   "cell_type": "code",
   "execution_count": 9,
   "id": "aa38dfb9",
   "metadata": {
    "execution": {
     "iopub.execute_input": "2022-08-19T07:04:34.933437Z",
     "iopub.status.busy": "2022-08-19T07:04:34.932596Z",
     "iopub.status.idle": "2022-08-19T07:04:34.938798Z",
     "shell.execute_reply": "2022-08-19T07:04:34.937881Z"
    },
    "papermill": {
     "duration": 0.016246,
     "end_time": "2022-08-19T07:04:34.940725",
     "exception": false,
     "start_time": "2022-08-19T07:04:34.924479",
     "status": "completed"
    },
    "tags": []
   },
   "outputs": [
    {
     "data": {
      "text/plain": [
       "84.4857744361"
      ]
     },
     "execution_count": 9,
     "metadata": {},
     "output_type": "execute_result"
    }
   ],
   "source": [
    "y_train[0][29]"
   ]
  },
  {
   "cell_type": "code",
   "execution_count": 10,
   "id": "8e5abc1b",
   "metadata": {
    "execution": {
     "iopub.execute_input": "2022-08-19T07:04:34.956843Z",
     "iopub.status.busy": "2022-08-19T07:04:34.956428Z",
     "iopub.status.idle": "2022-08-19T07:04:34.961831Z",
     "shell.execute_reply": "2022-08-19T07:04:34.960928Z"
    },
    "papermill": {
     "duration": 0.015601,
     "end_time": "2022-08-19T07:04:34.963736",
     "exception": false,
     "start_time": "2022-08-19T07:04:34.948135",
     "status": "completed"
    },
    "tags": []
   },
   "outputs": [],
   "source": [
    "def visualize_with_no_keypoints(index):\n",
    "    plt.imshow(x_train[index].reshape(96,96),cmap='gray')\n",
    "\n",
    "def visualize_with_keypoints(index):\n",
    "    plt.imshow(x_train[index].reshape(96,96),cmap='gray')\n",
    "    for i in range(0,28,2):\n",
    "        plt.plot(y_train[index][i],y_train[index][i+1],'ro')\n"
   ]
  },
  {
   "cell_type": "code",
   "execution_count": 11,
   "id": "f253c51c",
   "metadata": {
    "execution": {
     "iopub.execute_input": "2022-08-19T07:04:34.979852Z",
     "iopub.status.busy": "2022-08-19T07:04:34.979584Z",
     "iopub.status.idle": "2022-08-19T07:04:35.403999Z",
     "shell.execute_reply": "2022-08-19T07:04:35.403042Z"
    },
    "papermill": {
     "duration": 0.435256,
     "end_time": "2022-08-19T07:04:35.406403",
     "exception": false,
     "start_time": "2022-08-19T07:04:34.971147",
     "status": "completed"
    },
    "tags": []
   },
   "outputs": [
    {
     "data": {
      "image/png": "[encoded data removed]",
      "text/plain": [
       "<Figure size 576x288 with 2 Axes>"
      ]
     },
     "metadata": {
      "needs_background": "light"
     },
     "output_type": "display_data"
    }
   ],
   "source": [
    "fig=plt.figure(figsize=(8,4))\n",
    "plt.subplot(1,2,1)\n",
    "visualize_with_no_keypoints(10)\n",
    "plt.subplot(1,2,2)\n",
    "visualize_with_keypoints(10)"
   ]
  },
  {
   "cell_type": "code",
   "execution_count": 12,
   "id": "64491296",
   "metadata": {
    "execution": {
     "iopub.execute_input": "2022-08-19T07:04:35.425041Z",
     "iopub.status.busy": "2022-08-19T07:04:35.424130Z",
     "iopub.status.idle": "2022-08-19T07:04:35.429280Z",
     "shell.execute_reply": "2022-08-19T07:04:35.428445Z"
    },
    "papermill": {
     "duration": 0.016275,
     "end_time": "2022-08-19T07:04:35.431161",
     "exception": false,
     "start_time": "2022-08-19T07:04:35.414886",
     "status": "completed"
    },
    "tags": []
   },
   "outputs": [],
   "source": [
    "from keras.models import Sequential,Model\n",
    "from keras.layers import Activation,Convolution2D,MaxPooling2D,BatchNormalization,Dense,Dropout,Flatten\n",
    "from keras.layers.advanced_activations import LeakyReLU"
   ]
  },
  {
   "cell_type": "code",
   "execution_count": 13,
   "id": "1d281ea5",
   "metadata": {
    "execution": {
     "iopub.execute_input": "2022-08-19T07:04:35.449283Z",
     "iopub.status.busy": "2022-08-19T07:04:35.448442Z",
     "iopub.status.idle": "2022-08-19T07:04:39.636672Z",
     "shell.execute_reply": "2022-08-19T07:04:39.634664Z"
    },
    "papermill": {
     "duration": 4.199685,
     "end_time": "2022-08-19T07:04:39.639000",
     "exception": false,
     "start_time": "2022-08-19T07:04:35.439315",
     "status": "completed"
    },
    "tags": []
   },
   "outputs": [
    {
     "name": "stderr",
     "output_type": "stream",
     "text": [
      "2022-08-19 07:04:36.787158: I tensorflow/stream_executor/cuda/cuda_gpu_executor.cc:937] successful NUMA node read from SysFS had negative value (-1), but there must be at least one NUMA node, so returning NUMA node zero\n",
      "2022-08-19 07:04:36.894385: I tensorflow/stream_executor/cuda/cuda_gpu_executor.cc:937] successful NUMA node read from SysFS had negative value (-1), but there must be at least one NUMA node, so returning NUMA node zero\n",
      "2022-08-19 07:04:36.895148: I tensorflow/stream_executor/cuda/cuda_gpu_executor.cc:937] successful NUMA node read from SysFS had negative value (-1), but there must be at least one NUMA node, so returning NUMA node zero\n",
      "2022-08-19 07:04:36.897304: I tensorflow/core/platform/cpu_feature_guard.cc:142] This TensorFlow binary is optimized with oneAPI Deep Neural Network Library (oneDNN) to use the following CPU instructions in performance-critical operations:  AVX2 AVX512F FMA\n",
      "To enable them in other operations, rebuild TensorFlow with the appropriate compiler flags.\n",
      "2022-08-19 07:04:36.897666: I tensorflow/stream_executor/cuda/cuda_gpu_executor.cc:937] successful NUMA node read from SysFS had negative value (-1), but there must be at least one NUMA node, so returning NUMA node zero\n",
      "2022-08-19 07:04:36.898631: I tensorflow/stream_executor/cuda/cuda_gpu_executor.cc:937] successful NUMA node read from SysFS had negative value (-1), but there must be at least one NUMA node, so returning NUMA node zero\n",
      "2022-08-19 07:04:36.899586: I tensorflow/stream_executor/cuda/cuda_gpu_executor.cc:937] successful NUMA node read from SysFS had negative value (-1), but there must be at least one NUMA node, so returning NUMA node zero\n",
      "2022-08-19 07:04:39.212199: I tensorflow/stream_executor/cuda/cuda_gpu_executor.cc:937] successful NUMA node read from SysFS had negative value (-1), but there must be at least one NUMA node, so returning NUMA node zero\n",
      "2022-08-19 07:04:39.213114: I tensorflow/stream_executor/cuda/cuda_gpu_executor.cc:937] successful NUMA node read from SysFS had negative value (-1), but there must be at least one NUMA node, so returning NUMA node zero\n",
      "2022-08-19 07:04:39.213834: I tensorflow/stream_executor/cuda/cuda_gpu_executor.cc:937] successful NUMA node read from SysFS had negative value (-1), but there must be at least one NUMA node, so returning NUMA node zero\n",
      "2022-08-19 07:04:39.214468: I tensorflow/core/common_runtime/gpu/gpu_device.cc:1510] Created device /job:localhost/replica:0/task:0/device:GPU:0 with 15403 MB memory:  -> device: 0, name: Tesla P100-PCIE-16GB, pci bus id: 0000:00:04.0, compute capability: 6.0\n"
     ]
    }
   ],
   "source": [
    "model=Sequential()\n",
    "model.add(Convolution2D(32,(3,3),input_shape=(96,96,1),padding='same',use_bias=False))\n",
    "model.add(LeakyReLU(alpha=0.1))\n",
    "model.add(BatchNormalization())\n"
   ]
  },
  {
   "cell_type": "code",
   "execution_count": 14,
   "id": "091fa871",
   "metadata": {
    "execution": {
     "iopub.execute_input": "2022-08-19T07:04:39.658247Z",
     "iopub.status.busy": "2022-08-19T07:04:39.657375Z",
     "iopub.status.idle": "2022-08-19T07:04:39.682398Z",
     "shell.execute_reply": "2022-08-19T07:04:39.681533Z"
    },
    "papermill": {
     "duration": 0.036283,
     "end_time": "2022-08-19T07:04:39.684270",
     "exception": false,
     "start_time": "2022-08-19T07:04:39.647987",
     "status": "completed"
    },
    "tags": []
   },
   "outputs": [],
   "source": [
    "model.add(Convolution2D(32,(3,3),padding='same',use_bias=False,input_shape=(96,96,1)))\n",
    "model.add(LeakyReLU(alpha=0.1))\n",
    "model.add(BatchNormalization())\n",
    "model.add(MaxPooling2D(pool_size=(2,2)))"
   ]
  },
  {
   "cell_type": "code",
   "execution_count": 15,
   "id": "1e5ce261",
   "metadata": {
    "execution": {
     "iopub.execute_input": "2022-08-19T07:04:39.703451Z",
     "iopub.status.busy": "2022-08-19T07:04:39.702051Z",
     "iopub.status.idle": "2022-08-19T07:04:39.723442Z",
     "shell.execute_reply": "2022-08-19T07:04:39.722625Z"
    },
    "papermill": {
     "duration": 0.03273,
     "end_time": "2022-08-19T07:04:39.725531",
     "exception": false,
     "start_time": "2022-08-19T07:04:39.692801",
     "status": "completed"
    },
    "tags": []
   },
   "outputs": [],
   "source": [
    "model.add(Convolution2D(64,(3,3),padding='same',use_bias=False,input_shape=(96,96,1)))\n",
    "model.add(LeakyReLU(alpha=0.1))\n",
    "model.add(BatchNormalization())"
   ]
  },
  {
   "cell_type": "code",
   "execution_count": 16,
   "id": "d5b5bc6a",
   "metadata": {
    "execution": {
     "iopub.execute_input": "2022-08-19T07:04:39.743514Z",
     "iopub.status.busy": "2022-08-19T07:04:39.743254Z",
     "iopub.status.idle": "2022-08-19T07:04:39.767482Z",
     "shell.execute_reply": "2022-08-19T07:04:39.766671Z"
    },
    "papermill": {
     "duration": 0.03538,
     "end_time": "2022-08-19T07:04:39.769464",
     "exception": false,
     "start_time": "2022-08-19T07:04:39.734084",
     "status": "completed"
    },
    "tags": []
   },
   "outputs": [],
   "source": [
    "model.add(Convolution2D(64,(3,3),padding='same',use_bias=False,input_shape=(96,96,1)))\n",
    "model.add(LeakyReLU(alpha=0.1))\n",
    "model.add(BatchNormalization())\n",
    "model.add(MaxPooling2D(pool_size=(2,2)))"
   ]
  },
  {
   "cell_type": "code",
   "execution_count": 17,
   "id": "fcf37d2f",
   "metadata": {
    "execution": {
     "iopub.execute_input": "2022-08-19T07:04:39.789168Z",
     "iopub.status.busy": "2022-08-19T07:04:39.787633Z",
     "iopub.status.idle": "2022-08-19T07:04:39.811520Z",
     "shell.execute_reply": "2022-08-19T07:04:39.810718Z"
    },
    "papermill": {
     "duration": 0.035646,
     "end_time": "2022-08-19T07:04:39.813479",
     "exception": false,
     "start_time": "2022-08-19T07:04:39.777833",
     "status": "completed"
    },
    "tags": []
   },
   "outputs": [],
   "source": [
    "model.add(Convolution2D(96,(3,3),padding='same',use_bias=False,input_shape=(96,96,1)))\n",
    "model.add(LeakyReLU(alpha=0.1))\n",
    "model.add(BatchNormalization())"
   ]
  },
  {
   "cell_type": "code",
   "execution_count": 18,
   "id": "0d8cb950",
   "metadata": {
    "execution": {
     "iopub.execute_input": "2022-08-19T07:04:39.832556Z",
     "iopub.status.busy": "2022-08-19T07:04:39.831184Z",
     "iopub.status.idle": "2022-08-19T07:04:39.858877Z",
     "shell.execute_reply": "2022-08-19T07:04:39.858009Z"
    },
    "papermill": {
     "duration": 0.039207,
     "end_time": "2022-08-19T07:04:39.861107",
     "exception": false,
     "start_time": "2022-08-19T07:04:39.821900",
     "status": "completed"
    },
    "tags": []
   },
   "outputs": [],
   "source": [
    "model.add(Convolution2D(96,(3,3),padding='same',use_bias=False,input_shape=(96,96,1)))\n",
    "model.add(LeakyReLU(alpha=0.1))\n",
    "model.add(BatchNormalization())\n",
    "model.add(MaxPooling2D(pool_size=(2,2)))"
   ]
  },
  {
   "cell_type": "code",
   "execution_count": 19,
   "id": "e13c1bde",
   "metadata": {
    "execution": {
     "iopub.execute_input": "2022-08-19T07:04:39.879328Z",
     "iopub.status.busy": "2022-08-19T07:04:39.878674Z",
     "iopub.status.idle": "2022-08-19T07:04:39.924288Z",
     "shell.execute_reply": "2022-08-19T07:04:39.923440Z"
    },
    "papermill": {
     "duration": 0.056966,
     "end_time": "2022-08-19T07:04:39.926319",
     "exception": false,
     "start_time": "2022-08-19T07:04:39.869353",
     "status": "completed"
    },
    "tags": []
   },
   "outputs": [],
   "source": [
    "model.add(Convolution2D(128,(3,3),padding='same',use_bias=False,input_shape=(96,96,1)))\n",
    "model.add(LeakyReLU(alpha=0.1))\n",
    "model.add(BatchNormalization())\n",
    "model.add(Convolution2D(128,(3,3),padding='same',use_bias=False,input_shape=(96,96,1)))\n",
    "model.add(LeakyReLU(alpha=0.1))\n",
    "model.add(BatchNormalization())\n",
    "model.add(MaxPooling2D(pool_size=(2,2)))"
   ]
  },
  {
   "cell_type": "code",
   "execution_count": 20,
   "id": "e33c9c31",
   "metadata": {
    "execution": {
     "iopub.execute_input": "2022-08-19T07:04:39.946529Z",
     "iopub.status.busy": "2022-08-19T07:04:39.946207Z",
     "iopub.status.idle": "2022-08-19T07:04:39.992819Z",
     "shell.execute_reply": "2022-08-19T07:04:39.991828Z"
    },
    "papermill": {
     "duration": 0.058956,
     "end_time": "2022-08-19T07:04:39.994785",
     "exception": false,
     "start_time": "2022-08-19T07:04:39.935829",
     "status": "completed"
    },
    "tags": []
   },
   "outputs": [],
   "source": [
    "model.add(Convolution2D(256,(3,3),padding='same',use_bias=False,input_shape=(96,96,1)))\n",
    "model.add(LeakyReLU(alpha=0.1))\n",
    "model.add(BatchNormalization())\n",
    "model.add(Convolution2D(256,(3,3),padding='same',use_bias=False,input_shape=(96,96,1)))\n",
    "model.add(LeakyReLU(alpha=0.1))\n",
    "model.add(BatchNormalization())\n",
    "model.add(MaxPooling2D(pool_size=(2,2)))"
   ]
  },
  {
   "cell_type": "code",
   "execution_count": 21,
   "id": "65c83ab7",
   "metadata": {
    "execution": {
     "iopub.execute_input": "2022-08-19T07:04:40.013062Z",
     "iopub.status.busy": "2022-08-19T07:04:40.012802Z",
     "iopub.status.idle": "2022-08-19T07:04:40.061031Z",
     "shell.execute_reply": "2022-08-19T07:04:40.060201Z"
    },
    "papermill": {
     "duration": 0.059794,
     "end_time": "2022-08-19T07:04:40.063356",
     "exception": false,
     "start_time": "2022-08-19T07:04:40.003562",
     "status": "completed"
    },
    "tags": []
   },
   "outputs": [],
   "source": [
    "model.add(Convolution2D(512,(3,3),padding='same',use_bias=False,input_shape=(96,96,1)))\n",
    "model.add(LeakyReLU(alpha=0.1))\n",
    "model.add(BatchNormalization())\n",
    "model.add(Convolution2D(512,(3,3),padding='same',use_bias=False,input_shape=(96,96,1)))\n",
    "model.add(LeakyReLU(alpha=0.1))\n",
    "model.add(BatchNormalization())\n",
    "model.add(MaxPooling2D(pool_size=(2,2)))"
   ]
  },
  {
   "cell_type": "code",
   "execution_count": 22,
   "id": "037c9134",
   "metadata": {
    "execution": {
     "iopub.execute_input": "2022-08-19T07:04:40.082393Z",
     "iopub.status.busy": "2022-08-19T07:04:40.081548Z",
     "iopub.status.idle": "2022-08-19T07:04:40.116584Z",
     "shell.execute_reply": "2022-08-19T07:04:40.115575Z"
    },
    "papermill": {
     "duration": 0.047812,
     "end_time": "2022-08-19T07:04:40.120079",
     "exception": false,
     "start_time": "2022-08-19T07:04:40.072267",
     "status": "completed"
    },
    "tags": []
   },
   "outputs": [
    {
     "name": "stdout",
     "output_type": "stream",
     "text": [
      "Model: \"sequential\"\n",
      "_________________________________________________________________\n",
      "Layer (type)                 Output Shape              Param #   \n",
      "=================================================================\n",
      "conv2d (Conv2D)              (None, 96, 96, 32)        288       \n",
      "_________________________________________________________________\n",
      "leaky_re_lu (LeakyReLU)      (None, 96, 96, 32)        0         \n",
      "_________________________________________________________________\n",
      "batch_normalization (BatchNo (None, 96, 96, 32)        128       \n",
      "_________________________________________________________________\n",
      "conv2d_1 (Conv2D)            (None, 96, 96, 32)        9216      \n",
      "_________________________________________________________________\n",
      "leaky_re_lu_1 (LeakyReLU)    (None, 96, 96, 32)        0         \n",
      "_________________________________________________________________\n",
      "batch_normalization_1 (Batch (None, 96, 96, 32)        128       \n",
      "_________________________________________________________________\n",
      "max_pooling2d (MaxPooling2D) (None, 48, 48, 32)        0         \n",
      "_________________________________________________________________\n",
      "conv2d_2 (Conv2D)            (None, 48, 48, 64)        18432     \n",
      "_________________________________________________________________\n",
      "leaky_re_lu_2 (LeakyReLU)    (None, 48, 48, 64)        0         \n",
      "_________________________________________________________________\n",
      "batch_normalization_2 (Batch (None, 48, 48, 64)        256       \n",
      "_________________________________________________________________\n",
      "conv2d_3 (Conv2D)            (None, 48, 48, 64)        36864     \n",
      "_________________________________________________________________\n",
      "leaky_re_lu_3 (LeakyReLU)    (None, 48, 48, 64)        0         \n",
      "_________________________________________________________________\n",
      "batch_normalization_3 (Batch (None, 48, 48, 64)        256       \n",
      "_________________________________________________________________\n",
      "max_pooling2d_1 (MaxPooling2 (None, 24, 24, 64)        0         \n",
      "_________________________________________________________________\n",
      "conv2d_4 (Conv2D)            (None, 24, 24, 96)        55296     \n",
      "_________________________________________________________________\n",
      "leaky_re_lu_4 (LeakyReLU)    (None, 24, 24, 96)        0         \n",
      "_________________________________________________________________\n",
      "batch_normalization_4 (Batch (None, 24, 24, 96)        384       \n",
      "_________________________________________________________________\n",
      "conv2d_5 (Conv2D)            (None, 24, 24, 96)        82944     \n",
      "_________________________________________________________________\n",
      "leaky_re_lu_5 (LeakyReLU)    (None, 24, 24, 96)        0         \n",
      "_________________________________________________________________\n",
      "batch_normalization_5 (Batch (None, 24, 24, 96)        384       \n",
      "_________________________________________________________________\n",
      "max_pooling2d_2 (MaxPooling2 (None, 12, 12, 96)        0         \n",
      "_________________________________________________________________\n",
      "conv2d_6 (Conv2D)            (None, 12, 12, 128)       110592    \n",
      "_________________________________________________________________\n",
      "leaky_re_lu_6 (LeakyReLU)    (None, 12, 12, 128)       0         \n",
      "_________________________________________________________________\n",
      "batch_normalization_6 (Batch (None, 12, 12, 128)       512       \n",
      "_________________________________________________________________\n",
      "conv2d_7 (Conv2D)            (None, 12, 12, 128)       147456    \n",
      "_________________________________________________________________\n",
      "leaky_re_lu_7 (LeakyReLU)    (None, 12, 12, 128)       0         \n",
      "_________________________________________________________________\n",
      "batch_normalization_7 (Batch (None, 12, 12, 128)       512       \n",
      "_________________________________________________________________\n",
      "max_pooling2d_3 (MaxPooling2 (None, 6, 6, 128)         0         \n",
      "_________________________________________________________________\n",
      "conv2d_8 (Conv2D)            (None, 6, 6, 256)         294912    \n",
      "_________________________________________________________________\n",
      "leaky_re_lu_8 (LeakyReLU)    (None, 6, 6, 256)         0         \n",
      "_________________________________________________________________\n",
      "batch_normalization_8 (Batch (None, 6, 6, 256)         1024      \n",
      "_________________________________________________________________\n",
      "conv2d_9 (Conv2D)            (None, 6, 6, 256)         589824    \n",
      "_________________________________________________________________\n",
      "leaky_re_lu_9 (LeakyReLU)    (None, 6, 6, 256)         0         \n",
      "_________________________________________________________________\n",
      "batch_normalization_9 (Batch (None, 6, 6, 256)         1024      \n",
      "_________________________________________________________________\n",
      "max_pooling2d_4 (MaxPooling2 (None, 3, 3, 256)         0         \n",
      "_________________________________________________________________\n",
      "conv2d_10 (Conv2D)           (None, 3, 3, 512)         1179648   \n",
      "_________________________________________________________________\n",
      "leaky_re_lu_10 (LeakyReLU)   (None, 3, 3, 512)         0         \n",
      "_________________________________________________________________\n",
      "batch_normalization_10 (Batc (None, 3, 3, 512)         2048      \n",
      "_________________________________________________________________\n",
      "conv2d_11 (Conv2D)           (None, 3, 3, 512)         2359296   \n",
      "_________________________________________________________________\n",
      "leaky_re_lu_11 (LeakyReLU)   (None, 3, 3, 512)         0         \n",
      "_________________________________________________________________\n",
      "batch_normalization_11 (Batc (None, 3, 3, 512)         2048      \n",
      "_________________________________________________________________\n",
      "max_pooling2d_5 (MaxPooling2 (None, 1, 1, 512)         0         \n",
      "_________________________________________________________________\n",
      "flatten (Flatten)            (None, 512)               0         \n",
      "_________________________________________________________________\n",
      "dense (Dense)                (None, 512)               262656    \n",
      "_________________________________________________________________\n",
      "dropout (Dropout)            (None, 512)               0         \n",
      "_________________________________________________________________\n",
      "dense_1 (Dense)              (None, 30)                15390     \n",
      "=================================================================\n",
      "Total params: 5,171,518\n",
      "Trainable params: 5,167,166\n",
      "Non-trainable params: 4,352\n",
      "_________________________________________________________________\n"
     ]
    }
   ],
   "source": [
    "model.add(Flatten())\n",
    "model.add(Dense(512,activation='relu'))\n",
    "model.add(Dropout(0.1))\n",
    "model.add(Dense(30))\n",
    "model.summary()"
   ]
  },
  {
   "cell_type": "code",
   "execution_count": 23,
   "id": "07b3293e",
   "metadata": {
    "execution": {
     "iopub.execute_input": "2022-08-19T07:04:40.138518Z",
     "iopub.status.busy": "2022-08-19T07:04:40.138250Z",
     "iopub.status.idle": "2022-08-19T07:04:40.150191Z",
     "shell.execute_reply": "2022-08-19T07:04:40.149317Z"
    },
    "papermill": {
     "duration": 0.023627,
     "end_time": "2022-08-19T07:04:40.152206",
     "exception": false,
     "start_time": "2022-08-19T07:04:40.128579",
     "status": "completed"
    },
    "tags": []
   },
   "outputs": [],
   "source": [
    "model.compile(optimizer='adam',loss='mean_squared_error',metrics=['mae','acc'])\n",
    "# xtrain is np array 7049x96x96x1 ytrain is 7049x30 np array"
   ]
  },
  {
   "cell_type": "code",
   "execution_count": null,
   "id": "5d468c35",
   "metadata": {
    "papermill": {
     "duration": 0.00892,
     "end_time": "2022-08-19T07:04:40.169586",
     "exception": false,
     "start_time": "2022-08-19T07:04:40.160666",
     "status": "completed"
    },
    "tags": []
   },
   "outputs": [],
   "source": []
  },
  {
   "cell_type": "code",
   "execution_count": 24,
   "id": "6390e162",
   "metadata": {
    "execution": {
     "iopub.execute_input": "2022-08-19T07:04:40.188208Z",
     "iopub.status.busy": "2022-08-19T07:04:40.187378Z",
     "iopub.status.idle": "2022-08-19T07:07:01.985193Z",
     "shell.execute_reply": "2022-08-19T07:07:01.984266Z"
    },
    "papermill": {
     "duration": 141.809074,
     "end_time": "2022-08-19T07:07:01.987119",
     "exception": false,
     "start_time": "2022-08-19T07:04:40.178045",
     "status": "completed"
    },
    "tags": []
   },
   "outputs": [
    {
     "name": "stderr",
     "output_type": "stream",
     "text": [
      "2022-08-19 07:04:40.727820: I tensorflow/compiler/mlir/mlir_graph_optimization_pass.cc:185] None of the MLIR Optimization Passes are enabled (registered 2)\n"
     ]
    },
    {
     "name": "stdout",
     "output_type": "stream",
     "text": [
      "Epoch 1/45\n"
     ]
    },
    {
     "name": "stderr",
     "output_type": "stream",
     "text": [
      "2022-08-19 07:04:42.771573: I tensorflow/stream_executor/cuda/cuda_dnn.cc:369] Loaded cuDNN version 8005\n"
     ]
    },
    {
     "name": "stdout",
     "output_type": "stream",
     "text": [
      "23/23 [==============================] - 13s 165ms/step - loss: 621.4550 - mae: 18.2397 - acc: 0.4699 - val_loss: 687.1409 - val_mae: 24.6391 - val_acc: 0.3121\n",
      "Epoch 2/45\n",
      "23/23 [==============================] - 3s 127ms/step - loss: 33.1282 - mae: 4.4577 - acc: 0.4235 - val_loss: 24.5070 - val_mae: 3.6639 - val_acc: 0.6872\n",
      "Epoch 3/45\n",
      "23/23 [==============================] - 3s 127ms/step - loss: 23.2907 - mae: 3.7053 - acc: 0.3967 - val_loss: 15.0240 - val_mae: 2.8460 - val_acc: 0.6872\n",
      "Epoch 4/45\n",
      "23/23 [==============================] - 3s 126ms/step - loss: 21.5182 - mae: 3.5524 - acc: 0.4240 - val_loss: 8.1359 - val_mae: 1.9666 - val_acc: 0.6872\n",
      "Epoch 5/45\n",
      "23/23 [==============================] - 3s 127ms/step - loss: 20.7847 - mae: 3.4897 - acc: 0.4366 - val_loss: 7.3944 - val_mae: 1.7860 - val_acc: 0.6872\n",
      "Epoch 6/45\n",
      "23/23 [==============================] - 3s 127ms/step - loss: 19.8859 - mae: 3.3995 - acc: 0.4362 - val_loss: 9.3399 - val_mae: 2.1645 - val_acc: 0.6872\n",
      "Epoch 7/45\n",
      "23/23 [==============================] - 3s 129ms/step - loss: 18.7530 - mae: 3.2976 - acc: 0.4510 - val_loss: 25.8521 - val_mae: 4.3375 - val_acc: 0.6872\n",
      "Epoch 8/45\n",
      "23/23 [==============================] - 3s 127ms/step - loss: 17.8717 - mae: 3.2144 - acc: 0.4746 - val_loss: 44.8332 - val_mae: 5.8947 - val_acc: 0.6872\n",
      "Epoch 9/45\n",
      "23/23 [==============================] - 3s 127ms/step - loss: 16.6181 - mae: 3.0940 - acc: 0.4987 - val_loss: 21.0814 - val_mae: 3.7702 - val_acc: 0.6865\n",
      "Epoch 10/45\n",
      "23/23 [==============================] - 3s 127ms/step - loss: 15.9903 - mae: 3.0313 - acc: 0.5496 - val_loss: 13.2782 - val_mae: 2.8197 - val_acc: 0.6887\n",
      "Epoch 11/45\n",
      "23/23 [==============================] - 3s 126ms/step - loss: 15.5245 - mae: 2.9770 - acc: 0.5583 - val_loss: 34.0010 - val_mae: 4.9607 - val_acc: 0.6936\n",
      "Epoch 12/45\n",
      "23/23 [==============================] - 3s 126ms/step - loss: 14.9561 - mae: 2.9148 - acc: 0.5691 - val_loss: 11.5362 - val_mae: 2.5831 - val_acc: 0.6936\n",
      "Epoch 13/45\n",
      "23/23 [==============================] - 3s 128ms/step - loss: 14.2864 - mae: 2.8468 - acc: 0.5822 - val_loss: 19.7182 - val_mae: 3.6637 - val_acc: 0.6574\n",
      "Epoch 14/45\n",
      "23/23 [==============================] - 3s 127ms/step - loss: 13.8497 - mae: 2.7949 - acc: 0.5717 - val_loss: 13.1177 - val_mae: 2.8290 - val_acc: 0.7014\n",
      "Epoch 15/45\n",
      "23/23 [==============================] - 3s 126ms/step - loss: 13.2487 - mae: 2.7295 - acc: 0.5905 - val_loss: 20.1312 - val_mae: 3.8541 - val_acc: 0.7277\n",
      "Epoch 16/45\n",
      "23/23 [==============================] - 3s 126ms/step - loss: 12.9228 - mae: 2.7009 - acc: 0.6079 - val_loss: 18.3649 - val_mae: 3.5394 - val_acc: 0.7106\n",
      "Epoch 17/45\n",
      "23/23 [==============================] - 3s 128ms/step - loss: 12.0244 - mae: 2.6083 - acc: 0.6267 - val_loss: 18.0612 - val_mae: 3.5033 - val_acc: 0.7298\n",
      "Epoch 18/45\n",
      "23/23 [==============================] - 3s 129ms/step - loss: 12.2242 - mae: 2.6168 - acc: 0.6118 - val_loss: 6.7913 - val_mae: 1.9770 - val_acc: 0.7390\n",
      "Epoch 19/45\n",
      "23/23 [==============================] - 3s 126ms/step - loss: 11.2021 - mae: 2.5058 - acc: 0.6551 - val_loss: 19.2012 - val_mae: 3.5529 - val_acc: 0.7333\n",
      "Epoch 20/45\n",
      "23/23 [==============================] - 3s 127ms/step - loss: 11.4514 - mae: 2.5373 - acc: 0.6608 - val_loss: 6.9445 - val_mae: 1.8399 - val_acc: 0.7546\n",
      "Epoch 21/45\n",
      "23/23 [==============================] - 3s 127ms/step - loss: 10.6467 - mae: 2.4413 - acc: 0.6696 - val_loss: 8.5408 - val_mae: 2.1149 - val_acc: 0.7418\n",
      "Epoch 22/45\n",
      "23/23 [==============================] - 3s 126ms/step - loss: 10.2425 - mae: 2.4015 - acc: 0.6792 - val_loss: 8.0246 - val_mae: 2.1235 - val_acc: 0.7369\n",
      "Epoch 23/45\n",
      "23/23 [==============================] - 3s 126ms/step - loss: 11.3237 - mae: 2.4685 - acc: 0.6648 - val_loss: 6.1324 - val_mae: 1.5889 - val_acc: 0.7021\n",
      "Epoch 24/45\n",
      "23/23 [==============================] - 3s 128ms/step - loss: 10.8724 - mae: 2.4381 - acc: 0.6712 - val_loss: 11.4869 - val_mae: 2.7926 - val_acc: 0.7170\n",
      "Epoch 25/45\n",
      "23/23 [==============================] - 3s 126ms/step - loss: 10.3858 - mae: 2.4062 - acc: 0.6776 - val_loss: 5.1036 - val_mae: 1.6936 - val_acc: 0.7340\n",
      "Epoch 26/45\n",
      "23/23 [==============================] - 3s 127ms/step - loss: 9.4841 - mae: 2.2924 - acc: 0.6920 - val_loss: 4.2027 - val_mae: 1.4261 - val_acc: 0.7589\n",
      "Epoch 27/45\n",
      "23/23 [==============================] - 3s 127ms/step - loss: 9.0128 - mae: 2.2439 - acc: 0.6930 - val_loss: 4.6659 - val_mae: 1.4567 - val_acc: 0.7390\n",
      "Epoch 28/45\n",
      "23/23 [==============================] - 3s 128ms/step - loss: 8.7300 - mae: 2.2087 - acc: 0.7056 - val_loss: 6.4968 - val_mae: 1.8707 - val_acc: 0.7660\n",
      "Epoch 29/45\n",
      "23/23 [==============================] - 3s 129ms/step - loss: 8.5003 - mae: 2.1805 - acc: 0.7095 - val_loss: 4.3475 - val_mae: 1.3614 - val_acc: 0.7206\n",
      "Epoch 30/45\n",
      "23/23 [==============================] - 3s 126ms/step - loss: 8.4585 - mae: 2.1756 - acc: 0.7117 - val_loss: 5.7666 - val_mae: 1.6142 - val_acc: 0.7638\n",
      "Epoch 31/45\n",
      "23/23 [==============================] - 3s 127ms/step - loss: 8.1736 - mae: 2.1417 - acc: 0.7014 - val_loss: 4.6344 - val_mae: 1.3754 - val_acc: 0.7716\n",
      "Epoch 32/45\n",
      "23/23 [==============================] - 3s 127ms/step - loss: 7.9114 - mae: 2.1065 - acc: 0.7193 - val_loss: 3.9904 - val_mae: 1.4196 - val_acc: 0.7546\n",
      "Epoch 33/45\n",
      "23/23 [==============================] - 3s 127ms/step - loss: 7.5179 - mae: 2.0545 - acc: 0.7418 - val_loss: 4.2546 - val_mae: 1.3533 - val_acc: 0.7390\n",
      "Epoch 34/45\n",
      "23/23 [==============================] - 3s 126ms/step - loss: 7.6751 - mae: 2.0830 - acc: 0.7218 - val_loss: 4.4634 - val_mae: 1.3908 - val_acc: 0.7298\n",
      "Epoch 35/45\n",
      "23/23 [==============================] - 3s 126ms/step - loss: 7.1477 - mae: 2.0071 - acc: 0.7494 - val_loss: 5.1099 - val_mae: 1.7498 - val_acc: 0.7582\n",
      "Epoch 36/45\n",
      "23/23 [==============================] - 3s 128ms/step - loss: 7.0619 - mae: 2.0040 - acc: 0.7391 - val_loss: 3.0016 - val_mae: 1.1088 - val_acc: 0.7170\n",
      "Epoch 37/45\n",
      "23/23 [==============================] - 3s 126ms/step - loss: 7.0935 - mae: 2.0016 - acc: 0.7409 - val_loss: 3.6775 - val_mae: 1.2107 - val_acc: 0.7574\n",
      "Epoch 38/45\n",
      "23/23 [==============================] - 3s 127ms/step - loss: 6.7440 - mae: 1.9571 - acc: 0.7514 - val_loss: 4.9358 - val_mae: 1.6950 - val_acc: 0.8007\n",
      "Epoch 39/45\n",
      "23/23 [==============================] - 3s 128ms/step - loss: 6.7469 - mae: 1.9612 - acc: 0.7602 - val_loss: 4.6260 - val_mae: 1.5853 - val_acc: 0.7369\n",
      "Epoch 40/45\n",
      "23/23 [==============================] - 3s 130ms/step - loss: 6.5107 - mae: 1.9263 - acc: 0.7570 - val_loss: 8.7356 - val_mae: 2.4028 - val_acc: 0.7879\n",
      "Epoch 41/45\n",
      "23/23 [==============================] - 3s 127ms/step - loss: 6.1990 - mae: 1.8856 - acc: 0.7748 - val_loss: 3.4438 - val_mae: 1.2701 - val_acc: 0.7787\n",
      "Epoch 42/45\n",
      "23/23 [==============================] - 3s 126ms/step - loss: 6.1463 - mae: 1.8810 - acc: 0.7649 - val_loss: 4.8967 - val_mae: 1.6712 - val_acc: 0.7780\n",
      "Epoch 43/45\n",
      "23/23 [==============================] - 3s 128ms/step - loss: 6.0359 - mae: 1.8513 - acc: 0.7799 - val_loss: 11.7151 - val_mae: 2.7814 - val_acc: 0.8085\n",
      "Epoch 44/45\n",
      "23/23 [==============================] - 3s 127ms/step - loss: 6.1553 - mae: 1.8830 - acc: 0.7684 - val_loss: 4.3488 - val_mae: 1.5787 - val_acc: 0.7631\n",
      "Epoch 45/45\n",
      "23/23 [==============================] - 3s 127ms/step - loss: 5.6988 - mae: 1.8046 - acc: 0.7797 - val_loss: 18.9205 - val_mae: 3.9308 - val_acc: 0.7057\n"
     ]
    },
    {
     "data": {
      "text/plain": [
       "<keras.callbacks.History at 0x7fccacfb4610>"
      ]
     },
     "execution_count": 24,
     "metadata": {},
     "output_type": "execute_result"
    }
   ],
   "source": [
    "model.fit(x_train,y_train,batch_size=256,epochs=45,\n",
    "          validation_split=0.2)"
   ]
  },
  {
   "cell_type": "markdown",
   "id": "286ac51b",
   "metadata": {
    "execution": {
     "iopub.execute_input": "2022-08-19T05:59:07.321859Z",
     "iopub.status.busy": "2022-08-19T05:59:07.321158Z",
     "iopub.status.idle": "2022-08-19T05:59:12.798952Z",
     "shell.execute_reply": "2022-08-19T05:59:12.797818Z",
     "shell.execute_reply.started": "2022-08-19T05:59:07.321820Z"
    },
    "papermill": {
     "duration": 0.061025,
     "end_time": "2022-08-19T07:07:02.110126",
     "exception": false,
     "start_time": "2022-08-19T07:07:02.049101",
     "status": "completed"
    },
    "tags": []
   },
   "source": [
    "test_df=pd.read_csv('/kaggle/input/facial-keypoints-detection/test.zip')\n",
    "image_df=test_df['Image']\n",
    "imageArr=[]\n",
    "for i in image_df:\n",
    "     img = i.split()\n",
    "     img = ['0' if x == '' else x for x in img]\n",
    "     imageArr.append(img)\n",
    "x_test = np.array(imageArr,dtype='float')\n",
    "x_test = x_test.reshape(-1,96,96,1)\n",
    "print(x_test.shape)"
   ]
  },
  {
   "cell_type": "code",
   "execution_count": 25,
   "id": "c275523a",
   "metadata": {
    "execution": {
     "iopub.execute_input": "2022-08-19T07:07:02.233137Z",
     "iopub.status.busy": "2022-08-19T07:07:02.232804Z",
     "iopub.status.idle": "2022-08-19T07:07:02.464643Z",
     "shell.execute_reply": "2022-08-19T07:07:02.463267Z"
    },
    "papermill": {
     "duration": 0.295759,
     "end_time": "2022-08-19T07:07:02.466208",
     "exception": true,
     "start_time": "2022-08-19T07:07:02.170449",
     "status": "failed"
    },
    "tags": []
   },
   "outputs": [
    {
     "ename": "NameError",
     "evalue": "name 'test_df' is not defined",
     "output_type": "error",
     "traceback": [
      "\u001b[0;31m---------------------------------------------------------------------------\u001b[0m",
      "\u001b[0;31mNameError\u001b[0m                                 Traceback (most recent call last)",
      "\u001b[0;32m/tmp/ipykernel_23/1122697411.py\u001b[0m in \u001b[0;36m<module>\u001b[0;34m\u001b[0m\n\u001b[0;32m----> 1\u001b[0;31m \u001b[0mtest_df\u001b[0m\u001b[0;34m.\u001b[0m\u001b[0mhead\u001b[0m\u001b[0;34m(\u001b[0m\u001b[0;34m)\u001b[0m\u001b[0;34m\u001b[0m\u001b[0;34m\u001b[0m\u001b[0m\n\u001b[0m",
      "\u001b[0;31mNameError\u001b[0m: name 'test_df' is not defined"
     ]
    }
   ],
   "source": [
    "test_df.head()"
   ]
  },
  {
   "cell_type": "code",
   "execution_count": null,
   "id": "eb2838fe",
   "metadata": {
    "execution": {
     "iopub.execute_input": "2022-08-19T06:12:08.901244Z",
     "iopub.status.busy": "2022-08-19T06:12:08.900812Z",
     "iopub.status.idle": "2022-08-19T06:12:09.714125Z",
     "shell.execute_reply": "2022-08-19T06:12:09.713112Z",
     "shell.execute_reply.started": "2022-08-19T06:12:08.901209Z"
    },
    "papermill": {
     "duration": null,
     "end_time": null,
     "exception": null,
     "start_time": null,
     "status": "pending"
    },
    "tags": []
   },
   "outputs": [],
   "source": [
    "predict=model.predict(x_test)"
   ]
  },
  {
   "cell_type": "code",
   "execution_count": null,
   "id": "8dadf7c5",
   "metadata": {
    "execution": {
     "iopub.execute_input": "2022-08-19T06:39:36.737235Z",
     "iopub.status.busy": "2022-08-19T06:39:36.736133Z",
     "iopub.status.idle": "2022-08-19T06:39:36.745497Z",
     "shell.execute_reply": "2022-08-19T06:39:36.744303Z",
     "shell.execute_reply.started": "2022-08-19T06:39:36.737195Z"
    },
    "papermill": {
     "duration": null,
     "end_time": null,
     "exception": null,
     "start_time": null,
     "status": "pending"
    },
    "tags": []
   },
   "outputs": [],
   "source": [
    "predict[0][0]"
   ]
  },
  {
   "cell_type": "code",
   "execution_count": null,
   "id": "16843bf2",
   "metadata": {
    "execution": {
     "iopub.execute_input": "2022-08-19T06:13:29.121510Z",
     "iopub.status.busy": "2022-08-19T06:13:29.120839Z",
     "iopub.status.idle": "2022-08-19T06:13:29.150917Z",
     "shell.execute_reply": "2022-08-19T06:13:29.149851Z",
     "shell.execute_reply.started": "2022-08-19T06:13:29.121469Z"
    },
    "papermill": {
     "duration": null,
     "end_time": null,
     "exception": null,
     "start_time": null,
     "status": "pending"
    },
    "tags": []
   },
   "outputs": [],
   "source": [
    "idLookupTable=pd.read_csv('/kaggle/input/facial-keypoints-detection/IdLookupTable.csv')"
   ]
  },
  {
   "cell_type": "code",
   "execution_count": null,
   "id": "dbf31d98",
   "metadata": {
    "execution": {
     "iopub.execute_input": "2022-08-19T06:52:11.155227Z",
     "iopub.status.busy": "2022-08-19T06:52:11.154218Z",
     "iopub.status.idle": "2022-08-19T06:52:11.162237Z",
     "shell.execute_reply": "2022-08-19T06:52:11.161031Z",
     "shell.execute_reply.started": "2022-08-19T06:52:11.155189Z"
    },
    "papermill": {
     "duration": null,
     "end_time": null,
     "exception": null,
     "start_time": null,
     "status": "pending"
    },
    "tags": []
   },
   "outputs": [],
   "source": [
    "predict.shape\n",
    "submission=pd.read_csv('/kaggle/input/facial-keypoints-detection/SampleSubmission.csv')"
   ]
  },
  {
   "cell_type": "code",
   "execution_count": null,
   "id": "9eb9761d",
   "metadata": {
    "execution": {
     "iopub.execute_input": "2022-08-19T07:02:48.632790Z",
     "iopub.status.busy": "2022-08-19T07:02:48.632294Z",
     "iopub.status.idle": "2022-08-19T07:02:48.775483Z",
     "shell.execute_reply": "2022-08-19T07:02:48.774403Z",
     "shell.execute_reply.started": "2022-08-19T07:02:48.632732Z"
    },
    "papermill": {
     "duration": null,
     "end_time": null,
     "exception": null,
     "start_time": null,
     "status": "pending"
    },
    "tags": []
   },
   "outputs": [],
   "source": [
    "\n",
    "\n",
    "for i in range(904):\n",
    "    submission['Location'][30*i:30*(i+1)]=predict[i]\n",
    "\n",
    "submission['Location'][30*904:30*904+4]=predict[905][0:4]"
   ]
  },
  {
   "cell_type": "code",
   "execution_count": null,
   "id": "cc73f508",
   "metadata": {
    "execution": {
     "iopub.execute_input": "2022-08-19T07:03:06.589063Z",
     "iopub.status.busy": "2022-08-19T07:03:06.588033Z",
     "iopub.status.idle": "2022-08-19T07:03:06.599603Z",
     "shell.execute_reply": "2022-08-19T07:03:06.598476Z",
     "shell.execute_reply.started": "2022-08-19T07:03:06.589024Z"
    },
    "papermill": {
     "duration": null,
     "end_time": null,
     "exception": null,
     "start_time": null,
     "status": "pending"
    },
    "tags": []
   },
   "outputs": [],
   "source": [
    "\n",
    "submission.tail()"
   ]
  },
  {
   "cell_type": "code",
   "execution_count": null,
   "id": "2d623826",
   "metadata": {
    "execution": {
     "iopub.execute_input": "2022-08-19T07:02:35.256389Z",
     "iopub.status.busy": "2022-08-19T07:02:35.256019Z",
     "iopub.status.idle": "2022-08-19T07:02:35.273292Z",
     "shell.execute_reply": "2022-08-19T07:02:35.272472Z",
     "shell.execute_reply.started": "2022-08-19T07:02:35.256353Z"
    },
    "papermill": {
     "duration": null,
     "end_time": null,
     "exception": null,
     "start_time": null,
     "status": "pending"
    },
    "tags": []
   },
   "outputs": [],
   "source": []
  },
  {
   "cell_type": "code",
   "execution_count": null,
   "id": "80c7258d",
   "metadata": {
    "execution": {
     "iopub.execute_input": "2022-08-19T07:03:10.617960Z",
     "iopub.status.busy": "2022-08-19T07:03:10.614953Z",
     "iopub.status.idle": "2022-08-19T07:03:10.634104Z",
     "shell.execute_reply": "2022-08-19T07:03:10.632870Z",
     "shell.execute_reply.started": "2022-08-19T07:03:10.617918Z"
    },
    "papermill": {
     "duration": null,
     "end_time": null,
     "exception": null,
     "start_time": null,
     "status": "pending"
    },
    "tags": []
   },
   "outputs": [],
   "source": [
    "submission.to_csv('/kaggle/working/Submission.csv')"
   ]
  },
  {
   "cell_type": "code",
   "execution_count": null,
   "id": "6951a157",
   "metadata": {
    "papermill": {
     "duration": null,
     "end_time": null,
     "exception": null,
     "start_time": null,
     "status": "pending"
    },
    "tags": []
   },
   "outputs": [],
   "source": []
  }
 ],
 "metadata": {
  "kernelspec": {
   "display_name": "Python 3",
   "language": "python",
   "name": "python3"
  },
  "language_info": {
   "codemirror_mode": {
    "name": "ipython",
    "version": 3
   },
   "file_extension": ".py",
   "mimetype": "text/x-python",
   "name": "python",
   "nbconvert_exporter": "python",
   "pygments_lexer": "ipython3",
   "version": "3.7.12"
  },
  "papermill": {
   "default_parameters": {},
   "duration": 184.581728,
   "end_time": "2022-08-19T07:07:05.348764",
   "environment_variables": {},
   "exception": true,
   "input_path": "__notebook__.ipynb",
   "output_path": "__notebook__.ipynb",
   "parameters": {},
   "start_time": "2022-08-19T07:04:00.767036",
   "version": "2.3.4"
  }
 },
 "nbformat": 4,
 "nbformat_minor": 5
}
