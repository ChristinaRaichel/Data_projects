{
 "cells": [
  {
   "cell_type": "code",
   "execution_count": 45,
   "id": "02ae0c69",
   "metadata": {},
   "outputs": [],
   "source": [
    "import pickle\n",
    "\n",
    "import pandas as pd\n",
    "import seaborn as sns\n",
    "import matplotlib.pyplot as plot\n",
    "\n",
    "from sklearn.feature_extraction import DictVectorizer #ohe\n",
    "from sklearn.ensemble import RandomForestRegressor\n",
    "from sklearn.metrics import mean_squared_error"
   ]
  },
  {
   "cell_type": "code",
   "execution_count": 46,
   "id": "c304dfdb",
   "metadata": {},
   "outputs": [],
   "source": [
    "from sklearn.pipeline import make_pipeline"
   ]
  },
  {
   "cell_type": "code",
   "execution_count": 47,
   "id": "80d60163",
   "metadata": {},
   "outputs": [
    {
     "name": "stdout",
     "output_type": "stream",
     "text": [
      "Python 3.9.16\n"
     ]
    }
   ],
   "source": [
    "!python -V"
   ]
  },
  {
   "cell_type": "code",
   "execution_count": null,
   "id": "dd275d86",
   "metadata": {},
   "outputs": [],
   "source": []
  },
  {
   "cell_type": "code",
   "execution_count": 48,
   "id": "f1e88d7d",
   "metadata": {},
   "outputs": [
    {
     "name": "stderr",
     "output_type": "stream",
     "text": [
      "2023/04/14 13:55:11 INFO mlflow.tracking.fluent: Experiment with name 'green-taxi-exp_s3' does not exist. Creating a new experiment.\n"
     ]
    },
    {
     "data": {
      "text/plain": [
       "<Experiment: artifact_location='s3://mlflow-nyc-taxi-reg-exp/4', creation_time=1681460711669, experiment_id='4', last_update_time=1681460711669, lifecycle_stage='active', name='green-taxi-exp_s3', tags={}>"
      ]
     },
     "execution_count": 48,
     "metadata": {},
     "output_type": "execute_result"
    }
   ],
   "source": [
    "import mlflow\n",
    "\n",
    "mlflow.set_tracking_uri(\"http://127.0.0.1:5000\")\n",
    "mlflow.set_experiment(\"green-taxi-exp_s3\")"
   ]
  },
  {
   "cell_type": "code",
   "execution_count": 49,
   "id": "38ee16fc",
   "metadata": {},
   "outputs": [],
   "source": [
    "def read_dataframe(filename):\n",
    "    df = pd.read_parquet(filename)\n",
    "    df['duration'] = df.lpep_dropoff_datetime - df.lpep_pickup_datetime\n",
    "    df['duration'] = df.duration.apply(lambda td: td.total_seconds() /60)\n",
    "    df = df[((df.duration >= 1) & (df.duration <=60))]\n",
    "    categorical = ['PULocationID', 'DOLocationID']\n",
    "    df[categorical] = df[categorical].astype(str)\n",
    "    return df\n",
    "\n",
    "def prepare_data(df: pd.DataFrame):\n",
    "    df['PU_DO'] = df['PULocationID'] + '_' + df['DOLocationID']\n",
    "    categorical = ['PU_DO'] #'PULocationID', 'DOLocationID']\n",
    "    numerical = ['trip_distance']\n",
    "    dicts = df[categorical + numerical].to_dict(orient = 'records')\n",
    "    return dicts\n"
   ]
  },
  {
   "cell_type": "code",
   "execution_count": 50,
   "id": "95487de4",
   "metadata": {},
   "outputs": [],
   "source": [
    "df_train = read_dataframe(\"data/green_tripdata_2022-01.parquet\")\n",
    "df_val = read_dataframe(\"data/green_tripdata_2022-02.parquet\")"
   ]
  },
  {
   "cell_type": "code",
   "execution_count": 51,
   "id": "8c17907d",
   "metadata": {},
   "outputs": [
    {
     "data": {
      "text/plain": [
       "(59603, 66097)"
      ]
     },
     "execution_count": 51,
     "metadata": {},
     "output_type": "execute_result"
    }
   ],
   "source": [
    "len(df_train),len(df_val)"
   ]
  },
  {
   "cell_type": "code",
   "execution_count": 52,
   "id": "f082e445",
   "metadata": {},
   "outputs": [],
   "source": [
    "train_dicts = prepare_data(df_train)\n",
    "val_dicts = prepare_data(df_val)"
   ]
  },
  {
   "cell_type": "code",
   "execution_count": 53,
   "id": "684fcbf5",
   "metadata": {},
   "outputs": [],
   "source": [
    "target = 'duration'\n",
    "y_train = df_train[target].values #array\n",
    "y_val = df_val[target].values #array"
   ]
  },
  {
   "cell_type": "code",
   "execution_count": 56,
   "id": "8c42de3e",
   "metadata": {},
   "outputs": [
    {
     "name": "stdout",
     "output_type": "stream",
     "text": [
      "{'max_depth': 20, 'n_estimators': 100, 'min_samples_leaf': 10, 'random_state': 0} 6.101201727016495\n"
     ]
    }
   ],
   "source": [
    "#RandomForestRegression\n",
    "with mlflow.start_run():\n",
    "\n",
    "    params = dict(max_depth=20,n_estimators=100,min_samples_leaf=10,random_state=0)\n",
    "    mlflow.log_params(params)\n",
    "\n",
    "    pipeline = make_pipeline(\n",
    "        DictVectorizer(),\n",
    "        RandomForestRegressor(**params, n_jobs=-1))\n",
    "    \n",
    "    pipeline.fit(train_dicts,y_train)\n",
    "    y_predicted = pipeline.predict(val_dicts)\n",
    "\n",
    "    rmse = mean_squared_error(y_val, y_predicted, squared= False)\n",
    "    print(params,rmse)\n",
    "    mlflow.log_metric(\"rmse\",rmse)\n",
    "    mlflow.sklearn.log_model(pipeline,artifact_path='model')\n"
   ]
  },
  {
   "attachments": {},
   "cell_type": "markdown",
   "id": "0cdc2b29",
   "metadata": {},
   "source": [
    "END"
   ]
  },
  {
   "cell_type": "code",
   "execution_count": 18,
   "id": "5ea274a2",
   "metadata": {},
   "outputs": [],
   "source": [
    "from mlflow.tracking import MlflowClient\n",
    "\n",
    "RUN_ID = 'dca5f3d497454560980e1261963ae7be'\n",
    "MLFLOW_TRACKING_URI = \"http://127.0.0.1:5000\"\n",
    "\n",
    "client = MlflowClient(tracking_uri = MLFLOW_TRACKING_URI)"
   ]
  },
  {
   "cell_type": "code",
   "execution_count": 21,
   "id": "a654b568",
   "metadata": {},
   "outputs": [
    {
     "name": "stderr",
     "output_type": "stream",
     "text": [
      "/tmp/ipykernel_135875/391474895.py:2: FutureWarning: ``mlflow.tracking.client.MlflowClient.download_artifacts`` is deprecated since 2.0. This method will be removed in a future release. Use ``mlflow.artifacts.download_artifacts`` instead.\n",
      "  path = client.download_artifacts(run_id = RUN_ID, path = 'dict_vectorizer.bin')\n"
     ]
    }
   ],
   "source": [
    "\n",
    "#download the dicvect artifact with client\n",
    "path = client.download_artifacts(run_id = RUN_ID, path = 'dict_vectorizer.bin')"
   ]
  },
  {
   "cell_type": "code",
   "execution_count": 25,
   "id": "28b1126b",
   "metadata": {},
   "outputs": [],
   "source": [
    "\n",
    "with open(path, 'rb') as fout:\n",
    "    dv = pickle.load(fout)"
   ]
  },
  {
   "cell_type": "code",
   "execution_count": 33,
   "id": "9a456f32",
   "metadata": {},
   "outputs": [],
   "source": [
    "from mlflow.entities import ViewType\n",
    "\n",
    "runs = client.search_runs(\n",
    "     experiment_ids = '1',\n",
    "     filter_string = \"\",\n",
    "     run_view_type = ViewType.ACTIVE_ONLY,\n",
    "     max_results=5,\n",
    "     order_by =[\"metrics.rmse ASC\"]\n",
    ")"
   ]
  },
  {
   "cell_type": "code",
   "execution_count": null,
   "id": "e4c037fb",
   "metadata": {},
   "outputs": [],
   "source": []
  },
  {
   "cell_type": "code",
   "execution_count": 35,
   "id": "2492cb91",
   "metadata": {},
   "outputs": [
    {
     "name": "stdout",
     "output_type": "stream",
     "text": [
      "run id: 57e220105c2e42b08a16595b89588e41,rmse: 5.8231\n",
      "run id: 93be0212dbd042ada39c32c859245076,rmse: 5.8707\n",
      "run id: bbb7e00472af433fb6b63729253dba9d,rmse: 5.8718\n",
      "run id: e341597906b14dda9a1a7d6b64cf83cb,rmse: 5.8906\n",
      "run id: 8d8d6eb312204d1cb408674ffe5e8499,rmse: 5.9036\n"
     ]
    }
   ],
   "source": [
    "for run in runs:\n",
    "    print(f\"run id: {run.info.run_id},rmse: {run.data.metrics['rmse']:.4f}\")"
   ]
  },
  {
   "cell_type": "code",
   "execution_count": null,
   "id": "be0d253c",
   "metadata": {},
   "outputs": [],
   "source": []
  }
 ],
 "metadata": {
  "kernelspec": {
   "display_name": "Python 3 (ipykernel)",
   "language": "python",
   "name": "python3"
  },
  "language_info": {
   "codemirror_mode": {
    "name": "ipython",
    "version": 3
   },
   "file_extension": ".py",
   "mimetype": "text/x-python",
   "name": "python",
   "nbconvert_exporter": "python",
   "pygments_lexer": "ipython3",
   "version": "3.9.16"
  }
 },
 "nbformat": 4,
 "nbformat_minor": 5
}
